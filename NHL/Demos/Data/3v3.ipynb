{
 "cells": [
  {
   "cell_type": "markdown",
   "metadata": {},
   "source": [
    "Gets 3v3 overtime data by team and game."
   ]
  },
  {
   "cell_type": "code",
   "execution_count": 1,
   "metadata": {
    "collapsed": true
   },
   "outputs": [],
   "source": [
    "import PbPMethods2 as pm2\n",
    "import GetPbP"
   ]
  },
  {
   "cell_type": "code",
   "execution_count": 2,
   "metadata": {
    "collapsed": false
   },
   "outputs": [
    {
     "name": "stdout",
     "output_type": "stream",
     "text": [
      "Done with 2015\n",
      "Done with 2016\n"
     ]
    }
   ],
   "source": [
    "team_game_cf = {}\n",
    "team_game_ca = {}\n",
    "team_game = {}\n",
    "for season in range(2015, 2017):\n",
    "    for team in pm2.get_teams(season):\n",
    "        if team not in team_game:\n",
    "            team_game_cf[team] = []\n",
    "            team_game_ca[team] = []\n",
    "            team_game[team] = []\n",
    "        cur_game = 0\n",
    "        for line in pm2.read_team_pbp(team, season, strengths=['3v3'], \n",
    "                                      types=['GOAL', 'SHOT', 'MISS', 'BLOCK']):\n",
    "            if pm2.get_event_period(line) == 4:\n",
    "                g = pm2.get_game(line)\n",
    "                if not g == cur_game:\n",
    "                    cur_game = g\n",
    "                    team_game[team].append('{0:d}0{1:d}'.format(season, g))\n",
    "                    team_game_cf[team].append(0)\n",
    "                    team_game_ca[team].append(0)\n",
    "                if pm2.get_acting_team(line) == team:\n",
    "                    team_game_cf[team][-1] += 1\n",
    "                else:\n",
    "                    team_game_ca[team][-1] += 1\n",
    "    print('Done with', season)"
   ]
  },
  {
   "cell_type": "code",
   "execution_count": 3,
   "metadata": {
    "collapsed": false
   },
   "outputs": [],
   "source": [
    "w = open('./3v3 cf data.csv', 'w')\n",
    "w.write('Team,Game,CF,CA')\n",
    "for team in team_game:\n",
    "    for i in range(len(team_game[team])):\n",
    "        w.write('\\n{0:s},{1:s},{2:d},{3:d}'.format(team, team_game[team][i], \n",
    "                                                 team_game_cf[team][i],\n",
    "                                                 team_game_ca[team][i]))\n",
    "w.close()"
   ]
  },
  {
   "cell_type": "code",
   "execution_count": 4,
   "metadata": {
    "collapsed": true
   },
   "outputs": [],
   "source": [
    "import pandas as pd"
   ]
  },
  {
   "cell_type": "code",
   "execution_count": 5,
   "metadata": {
    "collapsed": false
   },
   "outputs": [
    {
     "data": {
      "text/html": [
       "<div>\n",
       "<table border=\"1\" class=\"dataframe\">\n",
       "  <thead>\n",
       "    <tr style=\"text-align: right;\">\n",
       "      <th></th>\n",
       "      <th>Team</th>\n",
       "      <th>Game</th>\n",
       "      <th>CF</th>\n",
       "      <th>CA</th>\n",
       "    </tr>\n",
       "  </thead>\n",
       "  <tbody>\n",
       "    <tr>\n",
       "      <th>0</th>\n",
       "      <td>COL</td>\n",
       "      <td>2015020091</td>\n",
       "      <td>1</td>\n",
       "      <td>1</td>\n",
       "    </tr>\n",
       "    <tr>\n",
       "      <th>1</th>\n",
       "      <td>COL</td>\n",
       "      <td>2015020406</td>\n",
       "      <td>4</td>\n",
       "      <td>3</td>\n",
       "    </tr>\n",
       "    <tr>\n",
       "      <th>2</th>\n",
       "      <td>COL</td>\n",
       "      <td>2015020532</td>\n",
       "      <td>5</td>\n",
       "      <td>5</td>\n",
       "    </tr>\n",
       "    <tr>\n",
       "      <th>3</th>\n",
       "      <td>COL</td>\n",
       "      <td>2015020560</td>\n",
       "      <td>2</td>\n",
       "      <td>4</td>\n",
       "    </tr>\n",
       "    <tr>\n",
       "      <th>4</th>\n",
       "      <td>COL</td>\n",
       "      <td>2015020598</td>\n",
       "      <td>4</td>\n",
       "      <td>6</td>\n",
       "    </tr>\n",
       "  </tbody>\n",
       "</table>\n",
       "</div>"
      ],
      "text/plain": [
       "  Team        Game  CF  CA\n",
       "0  COL  2015020091   1   1\n",
       "1  COL  2015020406   4   3\n",
       "2  COL  2015020532   5   5\n",
       "3  COL  2015020560   2   4\n",
       "4  COL  2015020598   4   6"
      ]
     },
     "execution_count": 5,
     "metadata": {},
     "output_type": "execute_result"
    }
   ],
   "source": [
    "df = pd.read_csv('./3v3 cf data.csv')\n",
    "df.head()"
   ]
  },
  {
   "cell_type": "code",
   "execution_count": 6,
   "metadata": {
    "collapsed": false
   },
   "outputs": [
    {
     "data": {
      "text/html": [
       "<div>\n",
       "<table border=\"1\" class=\"dataframe\">\n",
       "  <thead>\n",
       "    <tr style=\"text-align: right;\">\n",
       "      <th></th>\n",
       "      <th>Team</th>\n",
       "      <th>Game</th>\n",
       "      <th>CF</th>\n",
       "      <th>CA</th>\n",
       "    </tr>\n",
       "  </thead>\n",
       "  <tbody>\n",
       "    <tr>\n",
       "      <th>413</th>\n",
       "      <td>WSH</td>\n",
       "      <td>2015020160</td>\n",
       "      <td>2</td>\n",
       "      <td>2</td>\n",
       "    </tr>\n",
       "    <tr>\n",
       "      <th>414</th>\n",
       "      <td>WSH</td>\n",
       "      <td>2015020203</td>\n",
       "      <td>6</td>\n",
       "      <td>5</td>\n",
       "    </tr>\n",
       "    <tr>\n",
       "      <th>415</th>\n",
       "      <td>WSH</td>\n",
       "      <td>2015020243</td>\n",
       "      <td>3</td>\n",
       "      <td>2</td>\n",
       "    </tr>\n",
       "    <tr>\n",
       "      <th>416</th>\n",
       "      <td>WSH</td>\n",
       "      <td>2015020276</td>\n",
       "      <td>2</td>\n",
       "      <td>0</td>\n",
       "    </tr>\n",
       "    <tr>\n",
       "      <th>417</th>\n",
       "      <td>WSH</td>\n",
       "      <td>2015020388</td>\n",
       "      <td>8</td>\n",
       "      <td>2</td>\n",
       "    </tr>\n",
       "    <tr>\n",
       "      <th>418</th>\n",
       "      <td>WSH</td>\n",
       "      <td>2015020409</td>\n",
       "      <td>1</td>\n",
       "      <td>1</td>\n",
       "    </tr>\n",
       "    <tr>\n",
       "      <th>419</th>\n",
       "      <td>WSH</td>\n",
       "      <td>2015020576</td>\n",
       "      <td>3</td>\n",
       "      <td>1</td>\n",
       "    </tr>\n",
       "    <tr>\n",
       "      <th>420</th>\n",
       "      <td>WSH</td>\n",
       "      <td>2015020614</td>\n",
       "      <td>1</td>\n",
       "      <td>2</td>\n",
       "    </tr>\n",
       "    <tr>\n",
       "      <th>421</th>\n",
       "      <td>WSH</td>\n",
       "      <td>2015020741</td>\n",
       "      <td>0</td>\n",
       "      <td>2</td>\n",
       "    </tr>\n",
       "    <tr>\n",
       "      <th>422</th>\n",
       "      <td>WSH</td>\n",
       "      <td>2015020775</td>\n",
       "      <td>0</td>\n",
       "      <td>1</td>\n",
       "    </tr>\n",
       "    <tr>\n",
       "      <th>423</th>\n",
       "      <td>WSH</td>\n",
       "      <td>2015020858</td>\n",
       "      <td>6</td>\n",
       "      <td>1</td>\n",
       "    </tr>\n",
       "    <tr>\n",
       "      <th>424</th>\n",
       "      <td>WSH</td>\n",
       "      <td>2015020973</td>\n",
       "      <td>4</td>\n",
       "      <td>3</td>\n",
       "    </tr>\n",
       "    <tr>\n",
       "      <th>425</th>\n",
       "      <td>WSH</td>\n",
       "      <td>2015020991</td>\n",
       "      <td>5</td>\n",
       "      <td>3</td>\n",
       "    </tr>\n",
       "    <tr>\n",
       "      <th>426</th>\n",
       "      <td>WSH</td>\n",
       "      <td>2015021006</td>\n",
       "      <td>3</td>\n",
       "      <td>3</td>\n",
       "    </tr>\n",
       "    <tr>\n",
       "      <th>427</th>\n",
       "      <td>WSH</td>\n",
       "      <td>2015021041</td>\n",
       "      <td>3</td>\n",
       "      <td>0</td>\n",
       "    </tr>\n",
       "    <tr>\n",
       "      <th>428</th>\n",
       "      <td>WSH</td>\n",
       "      <td>2015021112</td>\n",
       "      <td>3</td>\n",
       "      <td>1</td>\n",
       "    </tr>\n",
       "    <tr>\n",
       "      <th>429</th>\n",
       "      <td>WSH</td>\n",
       "      <td>2015021150</td>\n",
       "      <td>2</td>\n",
       "      <td>1</td>\n",
       "    </tr>\n",
       "    <tr>\n",
       "      <th>430</th>\n",
       "      <td>WSH</td>\n",
       "      <td>2015021191</td>\n",
       "      <td>3</td>\n",
       "      <td>3</td>\n",
       "    </tr>\n",
       "    <tr>\n",
       "      <th>431</th>\n",
       "      <td>WSH</td>\n",
       "      <td>2015021206</td>\n",
       "      <td>3</td>\n",
       "      <td>5</td>\n",
       "    </tr>\n",
       "    <tr>\n",
       "      <th>432</th>\n",
       "      <td>WSH</td>\n",
       "      <td>2016020007</td>\n",
       "      <td>7</td>\n",
       "      <td>2</td>\n",
       "    </tr>\n",
       "    <tr>\n",
       "      <th>433</th>\n",
       "      <td>WSH</td>\n",
       "      <td>2016020149</td>\n",
       "      <td>5</td>\n",
       "      <td>0</td>\n",
       "    </tr>\n",
       "    <tr>\n",
       "      <th>434</th>\n",
       "      <td>WSH</td>\n",
       "      <td>2016020209</td>\n",
       "      <td>3</td>\n",
       "      <td>0</td>\n",
       "    </tr>\n",
       "    <tr>\n",
       "      <th>435</th>\n",
       "      <td>WSH</td>\n",
       "      <td>2016020232</td>\n",
       "      <td>0</td>\n",
       "      <td>2</td>\n",
       "    </tr>\n",
       "    <tr>\n",
       "      <th>436</th>\n",
       "      <td>WSH</td>\n",
       "      <td>2016020364</td>\n",
       "      <td>3</td>\n",
       "      <td>5</td>\n",
       "    </tr>\n",
       "    <tr>\n",
       "      <th>437</th>\n",
       "      <td>WSH</td>\n",
       "      <td>2016020380</td>\n",
       "      <td>1</td>\n",
       "      <td>2</td>\n",
       "    </tr>\n",
       "    <tr>\n",
       "      <th>438</th>\n",
       "      <td>WSH</td>\n",
       "      <td>2016020392</td>\n",
       "      <td>2</td>\n",
       "      <td>1</td>\n",
       "    </tr>\n",
       "    <tr>\n",
       "      <th>439</th>\n",
       "      <td>WSH</td>\n",
       "      <td>2016020456</td>\n",
       "      <td>5</td>\n",
       "      <td>5</td>\n",
       "    </tr>\n",
       "    <tr>\n",
       "      <th>440</th>\n",
       "      <td>WSH</td>\n",
       "      <td>2016020493</td>\n",
       "      <td>3</td>\n",
       "      <td>4</td>\n",
       "    </tr>\n",
       "    <tr>\n",
       "      <th>441</th>\n",
       "      <td>WSH</td>\n",
       "      <td>2016020533</td>\n",
       "      <td>6</td>\n",
       "      <td>5</td>\n",
       "    </tr>\n",
       "  </tbody>\n",
       "</table>\n",
       "</div>"
      ],
      "text/plain": [
       "    Team        Game  CF  CA\n",
       "413  WSH  2015020160   2   2\n",
       "414  WSH  2015020203   6   5\n",
       "415  WSH  2015020243   3   2\n",
       "416  WSH  2015020276   2   0\n",
       "417  WSH  2015020388   8   2\n",
       "418  WSH  2015020409   1   1\n",
       "419  WSH  2015020576   3   1\n",
       "420  WSH  2015020614   1   2\n",
       "421  WSH  2015020741   0   2\n",
       "422  WSH  2015020775   0   1\n",
       "423  WSH  2015020858   6   1\n",
       "424  WSH  2015020973   4   3\n",
       "425  WSH  2015020991   5   3\n",
       "426  WSH  2015021006   3   3\n",
       "427  WSH  2015021041   3   0\n",
       "428  WSH  2015021112   3   1\n",
       "429  WSH  2015021150   2   1\n",
       "430  WSH  2015021191   3   3\n",
       "431  WSH  2015021206   3   5\n",
       "432  WSH  2016020007   7   2\n",
       "433  WSH  2016020149   5   0\n",
       "434  WSH  2016020209   3   0\n",
       "435  WSH  2016020232   0   2\n",
       "436  WSH  2016020364   3   5\n",
       "437  WSH  2016020380   1   2\n",
       "438  WSH  2016020392   2   1\n",
       "439  WSH  2016020456   5   5\n",
       "440  WSH  2016020493   3   4\n",
       "441  WSH  2016020533   6   5"
      ]
     },
     "execution_count": 6,
     "metadata": {},
     "output_type": "execute_result"
    }
   ],
   "source": [
    "df[df.Team == 'WSH']"
   ]
  },
  {
   "cell_type": "code",
   "execution_count": 7,
   "metadata": {
    "collapsed": false
   },
   "outputs": [
    {
     "data": {
      "text/html": [
       "<div>\n",
       "<table border=\"1\" class=\"dataframe\">\n",
       "  <thead>\n",
       "    <tr style=\"text-align: right;\">\n",
       "      <th></th>\n",
       "      <th>Team</th>\n",
       "      <th>Game</th>\n",
       "      <th>CF</th>\n",
       "      <th>CA</th>\n",
       "    </tr>\n",
       "  </thead>\n",
       "  <tbody>\n",
       "    <tr>\n",
       "      <th>803</th>\n",
       "      <td>WPG</td>\n",
       "      <td>2016020210</td>\n",
       "      <td>1</td>\n",
       "      <td>4</td>\n",
       "    </tr>\n",
       "    <tr>\n",
       "      <th>804</th>\n",
       "      <td>WPG</td>\n",
       "      <td>2016020223</td>\n",
       "      <td>1</td>\n",
       "      <td>2</td>\n",
       "    </tr>\n",
       "    <tr>\n",
       "      <th>805</th>\n",
       "      <td>WPG</td>\n",
       "      <td>2016020366</td>\n",
       "      <td>1</td>\n",
       "      <td>0</td>\n",
       "    </tr>\n",
       "    <tr>\n",
       "      <th>806</th>\n",
       "      <td>WPG</td>\n",
       "      <td>2016020388</td>\n",
       "      <td>3</td>\n",
       "      <td>8</td>\n",
       "    </tr>\n",
       "    <tr>\n",
       "      <th>807</th>\n",
       "      <td>WPG</td>\n",
       "      <td>2016020451</td>\n",
       "      <td>4</td>\n",
       "      <td>2</td>\n",
       "    </tr>\n",
       "  </tbody>\n",
       "</table>\n",
       "</div>"
      ],
      "text/plain": [
       "    Team        Game  CF  CA\n",
       "803  WPG  2016020210   1   4\n",
       "804  WPG  2016020223   1   2\n",
       "805  WPG  2016020366   1   0\n",
       "806  WPG  2016020388   3   8\n",
       "807  WPG  2016020451   4   2"
      ]
     },
     "execution_count": 7,
     "metadata": {},
     "output_type": "execute_result"
    }
   ],
   "source": [
    "df.tail()"
   ]
  },
  {
   "cell_type": "markdown",
   "metadata": {},
   "source": [
    "Gets 3v3 overtime data by team and second of overtime"
   ]
  },
  {
   "cell_type": "code",
   "execution_count": 8,
   "metadata": {
    "collapsed": false
   },
   "outputs": [
    {
     "name": "stdout",
     "output_type": "stream",
     "text": [
      "Done with 2015\n",
      "Done with 2016\n"
     ]
    }
   ],
   "source": [
    "team_sec_cf = {}\n",
    "team_sec_ca = {}\n",
    "for season in range(2015, 2017):\n",
    "    for team in pm2.get_teams(season):\n",
    "        if team not in team_sec_cf:\n",
    "            team_sec_cf[team] = [0 for i in range(301)] #5 minutes\n",
    "            team_sec_ca[team] = [0 for i in range(301)] #5 minutes\n",
    "        for line in pm2.read_team_pbp(team, season, strengths=['3v3'], \n",
    "                                      types=['GOAL', 'SHOT', 'MISS', 'BLOCK']):\n",
    "            if pm2.get_event_period(line) == 4:\n",
    "                time = pm2.convert_time(pm2.get_event_time(line), 4) - 3600\n",
    "                if pm2.get_acting_team(line) == team:\n",
    "                    team_sec_cf[team][time] += 1\n",
    "                else:\n",
    "                    team_sec_ca[team][time] += 1\n",
    "    print('Done with', season)"
   ]
  },
  {
   "cell_type": "code",
   "execution_count": 9,
   "metadata": {
    "collapsed": false
   },
   "outputs": [],
   "source": [
    "w = open('./3v3 cf data by sec.csv', 'w')\n",
    "w.write('Team,Sec,CF,CA,CumCF,CumCA,CumCF%')\n",
    "for team in team_sec_cf:\n",
    "    cfsum = 0\n",
    "    casum = 0\n",
    "    for i, (cf, ca) in enumerate(zip(team_sec_cf[team], team_sec_ca[team])):\n",
    "        cfsum += cf\n",
    "        casum += ca\n",
    "        if cfsum + casum == 0:\n",
    "            cfpct = 0\n",
    "        else:\n",
    "            cfpct = cfsum*100/(cfsum+casum)\n",
    "        w.write('\\n{0:s},{1:d},{2:d},{3:d},{4:d},{5:d},{6:.1f}'.format(team, i, cf, ca,\n",
    "                                                                    cfsum, casum, cfpct))\n",
    "w.close()"
   ]
  },
  {
   "cell_type": "code",
   "execution_count": 10,
   "metadata": {
    "collapsed": false
   },
   "outputs": [
    {
     "data": {
      "text/html": [
       "<div>\n",
       "<table border=\"1\" class=\"dataframe\">\n",
       "  <thead>\n",
       "    <tr style=\"text-align: right;\">\n",
       "      <th></th>\n",
       "      <th>Team</th>\n",
       "      <th>Sec</th>\n",
       "      <th>CF</th>\n",
       "      <th>CA</th>\n",
       "      <th>CumCF</th>\n",
       "      <th>CumCA</th>\n",
       "      <th>CumCF%</th>\n",
       "    </tr>\n",
       "  </thead>\n",
       "  <tbody>\n",
       "    <tr>\n",
       "      <th>300</th>\n",
       "      <td>COL</td>\n",
       "      <td>300</td>\n",
       "      <td>0</td>\n",
       "      <td>0</td>\n",
       "      <td>36</td>\n",
       "      <td>44</td>\n",
       "      <td>45.0</td>\n",
       "    </tr>\n",
       "    <tr>\n",
       "      <th>601</th>\n",
       "      <td>TOR</td>\n",
       "      <td>300</td>\n",
       "      <td>1</td>\n",
       "      <td>0</td>\n",
       "      <td>126</td>\n",
       "      <td>99</td>\n",
       "      <td>56.0</td>\n",
       "    </tr>\n",
       "    <tr>\n",
       "      <th>902</th>\n",
       "      <td>L.A</td>\n",
       "      <td>300</td>\n",
       "      <td>0</td>\n",
       "      <td>0</td>\n",
       "      <td>97</td>\n",
       "      <td>72</td>\n",
       "      <td>57.4</td>\n",
       "    </tr>\n",
       "    <tr>\n",
       "      <th>1203</th>\n",
       "      <td>PHI</td>\n",
       "      <td>300</td>\n",
       "      <td>0</td>\n",
       "      <td>1</td>\n",
       "      <td>133</td>\n",
       "      <td>123</td>\n",
       "      <td>52.0</td>\n",
       "    </tr>\n",
       "    <tr>\n",
       "      <th>1504</th>\n",
       "      <td>NSH</td>\n",
       "      <td>300</td>\n",
       "      <td>1</td>\n",
       "      <td>1</td>\n",
       "      <td>57</td>\n",
       "      <td>86</td>\n",
       "      <td>39.9</td>\n",
       "    </tr>\n",
       "  </tbody>\n",
       "</table>\n",
       "</div>"
      ],
      "text/plain": [
       "     Team  Sec  CF  CA  CumCF  CumCA  CumCF%\n",
       "300   COL  300   0   0     36     44    45.0\n",
       "601   TOR  300   1   0    126     99    56.0\n",
       "902   L.A  300   0   0     97     72    57.4\n",
       "1203  PHI  300   0   1    133    123    52.0\n",
       "1504  NSH  300   1   1     57     86    39.9"
      ]
     },
     "execution_count": 10,
     "metadata": {},
     "output_type": "execute_result"
    }
   ],
   "source": [
    "df = pd.read_csv('./3v3 cf data by sec.csv')\n",
    "df[df.Sec == 300].head()"
   ]
  },
  {
   "cell_type": "code",
   "execution_count": 11,
   "metadata": {
    "collapsed": false
   },
   "outputs": [
    {
     "data": {
      "text/html": [
       "<div>\n",
       "<table border=\"1\" class=\"dataframe\">\n",
       "  <thead>\n",
       "    <tr style=\"text-align: right;\">\n",
       "      <th></th>\n",
       "      <th>Team</th>\n",
       "      <th>Sec</th>\n",
       "      <th>CF</th>\n",
       "      <th>CA</th>\n",
       "      <th>CumCF</th>\n",
       "      <th>CumCA</th>\n",
       "      <th>CumCF%</th>\n",
       "    </tr>\n",
       "  </thead>\n",
       "  <tbody>\n",
       "    <tr>\n",
       "      <th>4515</th>\n",
       "      <td>WSH</td>\n",
       "      <td>0</td>\n",
       "      <td>0</td>\n",
       "      <td>0</td>\n",
       "      <td>0</td>\n",
       "      <td>0</td>\n",
       "      <td>0</td>\n",
       "    </tr>\n",
       "    <tr>\n",
       "      <th>4516</th>\n",
       "      <td>WSH</td>\n",
       "      <td>1</td>\n",
       "      <td>0</td>\n",
       "      <td>0</td>\n",
       "      <td>0</td>\n",
       "      <td>0</td>\n",
       "      <td>0</td>\n",
       "    </tr>\n",
       "    <tr>\n",
       "      <th>4517</th>\n",
       "      <td>WSH</td>\n",
       "      <td>2</td>\n",
       "      <td>0</td>\n",
       "      <td>0</td>\n",
       "      <td>0</td>\n",
       "      <td>0</td>\n",
       "      <td>0</td>\n",
       "    </tr>\n",
       "    <tr>\n",
       "      <th>4518</th>\n",
       "      <td>WSH</td>\n",
       "      <td>3</td>\n",
       "      <td>0</td>\n",
       "      <td>0</td>\n",
       "      <td>0</td>\n",
       "      <td>0</td>\n",
       "      <td>0</td>\n",
       "    </tr>\n",
       "    <tr>\n",
       "      <th>4519</th>\n",
       "      <td>WSH</td>\n",
       "      <td>4</td>\n",
       "      <td>0</td>\n",
       "      <td>0</td>\n",
       "      <td>0</td>\n",
       "      <td>0</td>\n",
       "      <td>0</td>\n",
       "    </tr>\n",
       "  </tbody>\n",
       "</table>\n",
       "</div>"
      ],
      "text/plain": [
       "     Team  Sec  CF  CA  CumCF  CumCA  CumCF%\n",
       "4515  WSH    0   0   0      0      0       0\n",
       "4516  WSH    1   0   0      0      0       0\n",
       "4517  WSH    2   0   0      0      0       0\n",
       "4518  WSH    3   0   0      0      0       0\n",
       "4519  WSH    4   0   0      0      0       0"
      ]
     },
     "execution_count": 11,
     "metadata": {},
     "output_type": "execute_result"
    }
   ],
   "source": [
    "df[df.Team == 'WSH'].head()"
   ]
  },
  {
   "cell_type": "code",
   "execution_count": 12,
   "metadata": {
    "collapsed": false
   },
   "outputs": [
    {
     "data": {
      "text/plain": [
       "<matplotlib.axes._subplots.AxesSubplot at 0x1072a7828>"
      ]
     },
     "execution_count": 12,
     "metadata": {},
     "output_type": "execute_result"
    },
    {
     "data": {
      "image/png": "[encoded data removed]",
      "text/plain": [
       "<matplotlib.figure.Figure at 0x105eb07b8>"
      ]
     },
     "metadata": {},
     "output_type": "display_data"
    }
   ],
   "source": [
    "from pylab import *\n",
    "%matplotlib inline\n",
    "df[df.Team == 'WSH']['CumCF%'].plot()"
   ]
  },
  {
   "cell_type": "code",
   "execution_count": null,
   "metadata": {
    "collapsed": true
   },
   "outputs": [],
   "source": []
  }
 ],
 "metadata": {
  "kernelspec": {
   "display_name": "Python 3",
   "language": "python",
   "name": "python3"
  },
  "language_info": {
   "codemirror_mode": {
    "name": "ipython",
    "version": 3
   },
   "file_extension": ".py",
   "mimetype": "text/x-python",
   "name": "python",
   "nbconvert_exporter": "python",
   "pygments_lexer": "ipython3",
   "version": "3.4.3"
  }
 },
 "nbformat": 4,
 "nbformat_minor": 0
}
