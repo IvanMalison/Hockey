{
 "cells": [
  {
   "cell_type": "code",
   "execution_count": 1,
   "metadata": {
    "collapsed": true
   },
   "outputs": [],
   "source": [
    "import PbPMethods2 as pm2\n",
    "from pylab import *\n",
    "%matplotlib inline\n",
    "import pandas as pd\n",
    "import seaborn"
   ]
  },
  {
   "cell_type": "code",
   "execution_count": 2,
   "metadata": {
    "collapsed": true
   },
   "outputs": [],
   "source": [
    "dfs = []\n",
    "for season in range(2007, 2017):\n",
    "    dfs.append(pd.read_csv(pm2.get_gamebygame_data_filename(season)))\n",
    "dfs = pd.concat(dfs)\n",
    "#dfs.head()"
   ]
  },
  {
   "cell_type": "code",
   "execution_count": 3,
   "metadata": {
    "collapsed": true
   },
   "outputs": [],
   "source": [
    "forwards = dfs[dfs.Pos == 'F']\n",
    "defense = dfs[dfs.Pos == 'D']"
   ]
  },
  {
   "cell_type": "code",
   "execution_count": 4,
   "metadata": {
    "collapsed": false
   },
   "outputs": [
    {
     "data": {
      "text/html": [
       "<div>\n",
       "<table border=\"1\" class=\"dataframe\">\n",
       "  <thead>\n",
       "    <tr style=\"text-align: right;\">\n",
       "      <th></th>\n",
       "      <th>Player</th>\n",
       "      <th>Team</th>\n",
       "      <th>Season</th>\n",
       "      <th>TOION(60s)</th>\n",
       "      <th>iG</th>\n",
       "      <th>iA1</th>\n",
       "      <th>iA2</th>\n",
       "      <th>TOIRank</th>\n",
       "      <th>G60</th>\n",
       "      <th>P160</th>\n",
       "      <th>P60</th>\n",
       "      <th>G60Rank</th>\n",
       "      <th>P160Rank</th>\n",
       "      <th>P60Rank</th>\n",
       "    </tr>\n",
       "  </thead>\n",
       "  <tbody>\n",
       "    <tr>\n",
       "      <th>2280</th>\n",
       "      <td>Ilya Kovalchuk</td>\n",
       "      <td>N.J</td>\n",
       "      <td>2011</td>\n",
       "      <td>27.830833</td>\n",
       "      <td>21</td>\n",
       "      <td>17</td>\n",
       "      <td>12</td>\n",
       "      <td>1</td>\n",
       "      <td>0.754559</td>\n",
       "      <td>1.365392</td>\n",
       "      <td>1.796569</td>\n",
       "      <td>134</td>\n",
       "      <td>129</td>\n",
       "      <td>115</td>\n",
       "    </tr>\n",
       "    <tr>\n",
       "      <th>2243</th>\n",
       "      <td>Henrik Sedin</td>\n",
       "      <td>VAN</td>\n",
       "      <td>2010</td>\n",
       "      <td>26.425278</td>\n",
       "      <td>8</td>\n",
       "      <td>36</td>\n",
       "      <td>18</td>\n",
       "      <td>1</td>\n",
       "      <td>0.302740</td>\n",
       "      <td>1.665072</td>\n",
       "      <td>2.346238</td>\n",
       "      <td>327</td>\n",
       "      <td>55</td>\n",
       "      <td>24</td>\n",
       "    </tr>\n",
       "    <tr>\n",
       "      <th>6169</th>\n",
       "      <td>Zach Parise</td>\n",
       "      <td>N.J</td>\n",
       "      <td>2011</td>\n",
       "      <td>26.386667</td>\n",
       "      <td>22</td>\n",
       "      <td>15</td>\n",
       "      <td>11</td>\n",
       "      <td>2</td>\n",
       "      <td>0.833754</td>\n",
       "      <td>1.402223</td>\n",
       "      <td>1.819101</td>\n",
       "      <td>100</td>\n",
       "      <td>109</td>\n",
       "      <td>109</td>\n",
       "    </tr>\n",
       "    <tr>\n",
       "      <th>5383</th>\n",
       "      <td>Sidney Crosby</td>\n",
       "      <td>PIT</td>\n",
       "      <td>2015</td>\n",
       "      <td>26.058889</td>\n",
       "      <td>21</td>\n",
       "      <td>24</td>\n",
       "      <td>14</td>\n",
       "      <td>1</td>\n",
       "      <td>0.805867</td>\n",
       "      <td>1.726858</td>\n",
       "      <td>2.264103</td>\n",
       "      <td>85</td>\n",
       "      <td>25</td>\n",
       "      <td>16</td>\n",
       "    </tr>\n",
       "    <tr>\n",
       "      <th>2806</th>\n",
       "      <td>Joe Pavelski</td>\n",
       "      <td>S.J</td>\n",
       "      <td>2015</td>\n",
       "      <td>26.031111</td>\n",
       "      <td>32</td>\n",
       "      <td>15</td>\n",
       "      <td>6</td>\n",
       "      <td>2</td>\n",
       "      <td>1.229298</td>\n",
       "      <td>1.805532</td>\n",
       "      <td>2.036025</td>\n",
       "      <td>5</td>\n",
       "      <td>16</td>\n",
       "      <td>45</td>\n",
       "    </tr>\n",
       "  </tbody>\n",
       "</table>\n",
       "</div>"
      ],
      "text/plain": [
       "              Player Team  Season  TOION(60s)  iG  iA1  iA2  TOIRank  \\\n",
       "2280  Ilya Kovalchuk  N.J    2011   27.830833  21   17   12        1   \n",
       "2243    Henrik Sedin  VAN    2010   26.425278   8   36   18        1   \n",
       "6169     Zach Parise  N.J    2011   26.386667  22   15   11        2   \n",
       "5383   Sidney Crosby  PIT    2015   26.058889  21   24   14        1   \n",
       "2806    Joe Pavelski  S.J    2015   26.031111  32   15    6        2   \n",
       "\n",
       "           G60      P160       P60  G60Rank  P160Rank  P60Rank  \n",
       "2280  0.754559  1.365392  1.796569      134       129      115  \n",
       "2243  0.302740  1.665072  2.346238      327        55       24  \n",
       "6169  0.833754  1.402223  1.819101      100       109      109  \n",
       "5383  0.805867  1.726858  2.264103       85        25       16  \n",
       "2806  1.229298  1.805532  2.036025        5        16       45  "
      ]
     },
     "execution_count": 4,
     "metadata": {},
     "output_type": "execute_result"
    }
   ],
   "source": [
    "grouped = forwards[['Player', 'Team', 'Season', 'TOION(60s)', 'iG', 'iA1', 'iA2']].groupby(\n",
    "    ['Player', 'Team', 'Season']).sum()\n",
    "grouped.reset_index(inplace=True)\n",
    "grouped['TOIRank'] = grouped.sort_values(by=\"TOION(60s)\", ascending=False).groupby(['Season'])['TOION(60s)'].rank(ascending=False)\n",
    "grouped.sort_values(by='TOION(60s)', ascending=False, inplace=True)\n",
    "grouped = grouped[grouped.TOIRank <= 360]\n",
    "grouped['G60'] = grouped['iG']/grouped['TOION(60s)']\n",
    "grouped['P160'] = (grouped['iG'] + grouped['iA1'])/grouped['TOION(60s)']\n",
    "grouped['P60'] = (grouped['iG'] + grouped['iA1'] + grouped['iA2'])/grouped['TOION(60s)']\n",
    "grouped['G60Rank'] = grouped.sort_values(by=\"G60\", ascending=False).groupby(['Season'])['G60'].rank(ascending=False)\n",
    "grouped['P160Rank'] = grouped.sort_values(by=\"P160\", ascending=False).groupby(['Season'])['P160'].rank(ascending=False)\n",
    "grouped['P60Rank'] = grouped.sort_values(by=\"P60\", ascending=False).groupby(['Season'])['P60'].rank(ascending=False)\n",
    "grouped.head()"
   ]
  },
  {
   "cell_type": "code",
   "execution_count": 5,
   "metadata": {
    "collapsed": false
   },
   "outputs": [
    {
     "data": {
      "text/plain": [
       "<matplotlib.text.Text at 0x10b0a8d30>"
      ]
     },
     "execution_count": 5,
     "metadata": {},
     "output_type": "execute_result"
    },
    {
     "data": {
      "image/png": "[encoded data removed]",
      "text/plain": [
       "<matplotlib.figure.Figure at 0x10b46f908>"
      ]
     },
     "metadata": {},
     "output_type": "display_data"
    }
   ],
   "source": [
    "temp = grouped[grouped['G60Rank'] % 90 == 0]\n",
    "scatter(temp['G60Rank'], temp['G60'], label = 'G/60', color = 'b')\n",
    "temp = grouped[grouped['P160Rank'] % 90 == 0]\n",
    "scatter(temp['P160Rank'], temp['P160'], label = 'P1/60', color = 'g')\n",
    "temp = grouped[grouped['P60Rank'] % 90 == 0]\n",
    "scatter(temp['P60Rank'], temp['P60'], label = 'P/60', color = 'r')\n",
    "legend(loc=2, bbox_to_anchor=(1, 1))\n",
    "title('Line boxcar rate cutoff')\n",
    "xlabel('Season rank among top 360 forwards by TOI')\n",
    "ylabel('Per 60')"
   ]
  },
  {
   "cell_type": "code",
   "execution_count": 6,
   "metadata": {
    "collapsed": false
   },
   "outputs": [
    {
     "data": {
      "text/html": [
       "<div>\n",
       "<table border=\"1\" class=\"dataframe\">\n",
       "  <thead>\n",
       "    <tr style=\"text-align: right;\">\n",
       "      <th></th>\n",
       "      <th>Player</th>\n",
       "      <th>Team</th>\n",
       "      <th>Season</th>\n",
       "      <th>TOION(60s)</th>\n",
       "      <th>iG</th>\n",
       "      <th>iA1</th>\n",
       "      <th>iA2</th>\n",
       "      <th>TOIRank</th>\n",
       "      <th>G60</th>\n",
       "      <th>P160</th>\n",
       "      <th>P60</th>\n",
       "      <th>G60Rank</th>\n",
       "      <th>P160Rank</th>\n",
       "      <th>P60Rank</th>\n",
       "    </tr>\n",
       "  </thead>\n",
       "  <tbody>\n",
       "    <tr>\n",
       "      <th>2697</th>\n",
       "      <td>Ryan McDonagh</td>\n",
       "      <td>NYR</td>\n",
       "      <td>2011</td>\n",
       "      <td>33.913333</td>\n",
       "      <td>6</td>\n",
       "      <td>12</td>\n",
       "      <td>11</td>\n",
       "      <td>1</td>\n",
       "      <td>0.176922</td>\n",
       "      <td>0.530765</td>\n",
       "      <td>0.855121</td>\n",
       "      <td>58</td>\n",
       "      <td>40</td>\n",
       "      <td>45</td>\n",
       "    </tr>\n",
       "    <tr>\n",
       "      <th>1010</th>\n",
       "      <td>Duncan Keith</td>\n",
       "      <td>CHI</td>\n",
       "      <td>2009</td>\n",
       "      <td>33.733611</td>\n",
       "      <td>10</td>\n",
       "      <td>20</td>\n",
       "      <td>23</td>\n",
       "      <td>1</td>\n",
       "      <td>0.296440</td>\n",
       "      <td>0.889321</td>\n",
       "      <td>1.571133</td>\n",
       "      <td>16</td>\n",
       "      <td>2</td>\n",
       "      <td>2</td>\n",
       "    </tr>\n",
       "    <tr>\n",
       "      <th>1015</th>\n",
       "      <td>Duncan Keith</td>\n",
       "      <td>CHI</td>\n",
       "      <td>2014</td>\n",
       "      <td>33.723611</td>\n",
       "      <td>10</td>\n",
       "      <td>13</td>\n",
       "      <td>14</td>\n",
       "      <td>1</td>\n",
       "      <td>0.296528</td>\n",
       "      <td>0.682015</td>\n",
       "      <td>1.097154</td>\n",
       "      <td>29</td>\n",
       "      <td>23</td>\n",
       "      <td>30</td>\n",
       "    </tr>\n",
       "    <tr>\n",
       "      <th>2432</th>\n",
       "      <td>Niklas Hjalmarsson</td>\n",
       "      <td>CHI</td>\n",
       "      <td>2014</td>\n",
       "      <td>33.720000</td>\n",
       "      <td>3</td>\n",
       "      <td>7</td>\n",
       "      <td>11</td>\n",
       "      <td>2</td>\n",
       "      <td>0.088968</td>\n",
       "      <td>0.296560</td>\n",
       "      <td>0.622776</td>\n",
       "      <td>136</td>\n",
       "      <td>127</td>\n",
       "      <td>115</td>\n",
       "    </tr>\n",
       "    <tr>\n",
       "      <th>2733</th>\n",
       "      <td>Ryan Suter</td>\n",
       "      <td>MIN</td>\n",
       "      <td>2013</td>\n",
       "      <td>33.196111</td>\n",
       "      <td>3</td>\n",
       "      <td>5</td>\n",
       "      <td>16</td>\n",
       "      <td>1</td>\n",
       "      <td>0.090372</td>\n",
       "      <td>0.240992</td>\n",
       "      <td>0.722976</td>\n",
       "      <td>131</td>\n",
       "      <td>151</td>\n",
       "      <td>85</td>\n",
       "    </tr>\n",
       "  </tbody>\n",
       "</table>\n",
       "</div>"
      ],
      "text/plain": [
       "                  Player Team  Season  TOION(60s)  iG  iA1  iA2  TOIRank  \\\n",
       "2697       Ryan McDonagh  NYR    2011   33.913333   6   12   11        1   \n",
       "1010        Duncan Keith  CHI    2009   33.733611  10   20   23        1   \n",
       "1015        Duncan Keith  CHI    2014   33.723611  10   13   14        1   \n",
       "2432  Niklas Hjalmarsson  CHI    2014   33.720000   3    7   11        2   \n",
       "2733          Ryan Suter  MIN    2013   33.196111   3    5   16        1   \n",
       "\n",
       "           G60      P160       P60  G60Rank  P160Rank  P60Rank  \n",
       "2697  0.176922  0.530765  0.855121       58        40       45  \n",
       "1010  0.296440  0.889321  1.571133       16         2        2  \n",
       "1015  0.296528  0.682015  1.097154       29        23       30  \n",
       "2432  0.088968  0.296560  0.622776      136       127      115  \n",
       "2733  0.090372  0.240992  0.722976      131       151       85  "
      ]
     },
     "execution_count": 6,
     "metadata": {},
     "output_type": "execute_result"
    }
   ],
   "source": [
    "grouped = defense[['Player', 'Team', 'Season', 'TOION(60s)', 'iG', 'iA1', 'iA2']].groupby(\n",
    "    ['Player', 'Team', 'Season']).sum()\n",
    "grouped.reset_index(inplace=True)\n",
    "grouped['TOIRank'] = grouped.sort_values(by=\"TOION(60s)\", ascending=False).groupby(['Season'])['TOION(60s)'].rank(ascending=False)\n",
    "grouped.sort_values(by='TOION(60s)', ascending=False, inplace=True)\n",
    "grouped = grouped[grouped.TOIRank <= 180]\n",
    "grouped['G60'] = grouped['iG']/grouped['TOION(60s)']\n",
    "grouped['P160'] = (grouped['iG'] + grouped['iA1'])/grouped['TOION(60s)']\n",
    "grouped['P60'] = (grouped['iG'] + grouped['iA1'] + grouped['iA2'])/grouped['TOION(60s)']\n",
    "grouped['G60Rank'] = grouped.sort_values(by=\"G60\", ascending=False).groupby(['Season'])['G60'].rank(ascending=False)\n",
    "grouped['P160Rank'] = grouped.sort_values(by=\"P160\", ascending=False).groupby(['Season'])['P160'].rank(ascending=False)\n",
    "grouped['P60Rank'] = grouped.sort_values(by=\"P60\", ascending=False).groupby(['Season'])['P60'].rank(ascending=False)\n",
    "grouped.head()"
   ]
  },
  {
   "cell_type": "code",
   "execution_count": 7,
   "metadata": {
    "collapsed": false
   },
   "outputs": [
    {
     "data": {
      "text/plain": [
       "<matplotlib.text.Text at 0x1043aa400>"
      ]
     },
     "execution_count": 7,
     "metadata": {},
     "output_type": "execute_result"
    },
    {
     "data": {
      "image/png": "[encoded data removed]",
      "text/plain": [
       "<matplotlib.figure.Figure at 0x10438efd0>"
      ]
     },
     "metadata": {},
     "output_type": "display_data"
    }
   ],
   "source": [
    "temp = grouped[grouped['G60Rank'] % 60 == 0]\n",
    "scatter(temp['G60Rank'], temp['G60'], label = 'G/60', color = 'b')\n",
    "temp = grouped[grouped['P160Rank'] % 60 == 0]\n",
    "scatter(temp['P160Rank'], temp['P160'], label = 'P1/60', color = 'g')\n",
    "temp = grouped[grouped['P60Rank'] % 60 == 0]\n",
    "scatter(temp['P60Rank'], temp['P60'], label = 'P/60', color = 'r')\n",
    "legend(loc=2, bbox_to_anchor=(1, 1))\n",
    "title('Pair boxcar rate cutoff')\n",
    "xlabel('Season rank among top 180 defense by TOI')\n",
    "ylabel('Per 60')"
   ]
  }
 ],
 "metadata": {
  "kernelspec": {
   "display_name": "Python 3",
   "language": "python",
   "name": "python3"
  },
  "language_info": {
   "codemirror_mode": {
    "name": "ipython",
    "version": 3
   },
   "file_extension": ".py",
   "mimetype": "text/x-python",
   "name": "python",
   "nbconvert_exporter": "python",
   "pygments_lexer": "ipython3",
   "version": "3.4.3"
  }
 },
 "nbformat": 4,
 "nbformat_minor": 0
}
