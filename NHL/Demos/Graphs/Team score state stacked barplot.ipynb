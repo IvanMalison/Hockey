{
 "cells": [
  {
   "cell_type": "code",
   "execution_count": 1,
   "metadata": {
    "collapsed": true
   },
   "outputs": [],
   "source": [
    "import PbPMethods2 as pm2\n",
    "from pylab import *\n",
    "%matplotlib inline\n",
    "import seaborn\n",
    "import pandas as pd"
   ]
  },
  {
   "cell_type": "markdown",
   "metadata": {},
   "source": [
    "Generate data"
   ]
  },
  {
   "cell_type": "code",
   "execution_count": 2,
   "metadata": {
    "collapsed": true
   },
   "outputs": [],
   "source": [
    "season = 2016\n",
    "maxdelta = 3 #rounds larger values to this one"
   ]
  },
  {
   "cell_type": "code",
   "execution_count": 3,
   "metadata": {
    "collapsed": false
   },
   "outputs": [],
   "source": [
    "teams = []\n",
    "games = []\n",
    "times = []\n",
    "diffs = []\n",
    "for team in pm2.get_teams(season):\n",
    "    gamescorediff = {}\n",
    "    teamscore = 0\n",
    "    oppscore = 0\n",
    "    for line in pm2.read_team_pbp(team, season, types=['GOAL'], strengths=['all']):\n",
    "        g = pm2.get_game(line)\n",
    "        if g not in gamescorediff:\n",
    "            gamescorediff[g] = {i: None for i in range(3900)}\n",
    "            teamscore = 0\n",
    "            oppscore = 0\n",
    "        time = pm2.convert_time(pm2.get_event_time(line), pm2.get_event_period(line))\n",
    "        if pm2.get_acting_team(line) == team:\n",
    "            teamscore += 1\n",
    "            olddiff = teamscore - oppscore - 1\n",
    "        else:\n",
    "            oppscore += 1\n",
    "            olddiff = teamscore - oppscore + 1\n",
    "        if time <= 3900:\n",
    "            if olddiff > maxdelta:\n",
    "                olddiff = maxdelta\n",
    "            if olddiff < -1 * maxdelta:\n",
    "                olddiff = -1 * maxdelta\n",
    "            gamescorediff[g][time] = int(olddiff)\n",
    "            \n",
    "            for j in range(time - 1, -1, -1):\n",
    "                if gamescorediff[g][j] is not None:\n",
    "                    break\n",
    "                else:\n",
    "                    gamescorediff[g][j] = olddiff\n",
    "                    \n",
    "    teams += [team] * len(gamescorediff) * 3900\n",
    "    for g in gamescorediff:\n",
    "        games += [g] * 3900\n",
    "        times += [i for i, v in gamescorediff[g].items()]\n",
    "        diffs += [v for i, v in gamescorediff[g].items()]\n",
    "    #print('Done with', team)\n",
    "masterscoredct = {'Team': teams, 'Game': games, 'Time': times, 'ScoreDiff': diffs}\n",
    "scoresdf = pd.DataFrame(masterscoredct)"
   ]
  },
  {
   "cell_type": "code",
   "execution_count": 4,
   "metadata": {
    "collapsed": false
   },
   "outputs": [],
   "source": [
    "teams = []\n",
    "games = []\n",
    "times = []\n",
    "for team in pm2.get_teams(season):\n",
    "    for line in pm2.read_team_toi(team, season):\n",
    "        time = int(line[2])\n",
    "        teams.append(team)\n",
    "        games.append(pm2.get_game(line))\n",
    "        times.append(time)\n",
    "    #print('Done with', team)\n",
    "timesdf = pd.DataFrame({'Team': teams, 'Game': games, 'Time': times})"
   ]
  },
  {
   "cell_type": "code",
   "execution_count": 5,
   "metadata": {
    "collapsed": false
   },
   "outputs": [
    {
     "data": {
      "text/html": [
       "<div>\n",
       "<table border=\"1\" class=\"dataframe\">\n",
       "  <thead>\n",
       "    <tr style=\"text-align: right;\">\n",
       "      <th></th>\n",
       "      <th>Game</th>\n",
       "      <th>Team</th>\n",
       "      <th>Time</th>\n",
       "      <th>ScoreDiff</th>\n",
       "    </tr>\n",
       "  </thead>\n",
       "  <tbody>\n",
       "    <tr>\n",
       "      <th>0</th>\n",
       "      <td>20005</td>\n",
       "      <td>MTL</td>\n",
       "      <td>1</td>\n",
       "      <td>0.0</td>\n",
       "    </tr>\n",
       "    <tr>\n",
       "      <th>1</th>\n",
       "      <td>20005</td>\n",
       "      <td>MTL</td>\n",
       "      <td>2</td>\n",
       "      <td>0.0</td>\n",
       "    </tr>\n",
       "    <tr>\n",
       "      <th>2</th>\n",
       "      <td>20005</td>\n",
       "      <td>MTL</td>\n",
       "      <td>3</td>\n",
       "      <td>0.0</td>\n",
       "    </tr>\n",
       "    <tr>\n",
       "      <th>3</th>\n",
       "      <td>20005</td>\n",
       "      <td>MTL</td>\n",
       "      <td>4</td>\n",
       "      <td>0.0</td>\n",
       "    </tr>\n",
       "    <tr>\n",
       "      <th>4</th>\n",
       "      <td>20005</td>\n",
       "      <td>MTL</td>\n",
       "      <td>5</td>\n",
       "      <td>0.0</td>\n",
       "    </tr>\n",
       "  </tbody>\n",
       "</table>\n",
       "</div>"
      ],
      "text/plain": [
       "    Game Team  Time  ScoreDiff\n",
       "0  20005  MTL     1        0.0\n",
       "1  20005  MTL     2        0.0\n",
       "2  20005  MTL     3        0.0\n",
       "3  20005  MTL     4        0.0\n",
       "4  20005  MTL     5        0.0"
      ]
     },
     "execution_count": 5,
     "metadata": {},
     "output_type": "execute_result"
    }
   ],
   "source": [
    "df = timesdf.merge(scoresdf, how='left', on=['Game', 'Team', 'Time'])\n",
    "df['ScoreDiff'].fillna(method='ffill', inplace=True)\n",
    "df.head()"
   ]
  },
  {
   "cell_type": "code",
   "execution_count": 6,
   "metadata": {
    "collapsed": false
   },
   "outputs": [
    {
     "data": {
      "text/html": [
       "<div>\n",
       "<table border=\"1\" class=\"dataframe\">\n",
       "  <thead>\n",
       "    <tr style=\"text-align: right;\">\n",
       "      <th>ScoreDiff</th>\n",
       "      <th>-3.0</th>\n",
       "      <th>-2.0</th>\n",
       "      <th>-1.0</th>\n",
       "      <th>0.0</th>\n",
       "      <th>1.0</th>\n",
       "      <th>2.0</th>\n",
       "      <th>3.0</th>\n",
       "    </tr>\n",
       "    <tr>\n",
       "      <th>Team</th>\n",
       "      <th></th>\n",
       "      <th></th>\n",
       "      <th></th>\n",
       "      <th></th>\n",
       "      <th></th>\n",
       "      <th></th>\n",
       "      <th></th>\n",
       "    </tr>\n",
       "  </thead>\n",
       "  <tbody>\n",
       "    <tr>\n",
       "      <th>ANA</th>\n",
       "      <td>9053</td>\n",
       "      <td>14383</td>\n",
       "      <td>31823</td>\n",
       "      <td>79803</td>\n",
       "      <td>36247</td>\n",
       "      <td>12043</td>\n",
       "      <td>7368</td>\n",
       "    </tr>\n",
       "    <tr>\n",
       "      <th>ARI</th>\n",
       "      <td>12675</td>\n",
       "      <td>21997</td>\n",
       "      <td>36776</td>\n",
       "      <td>70567</td>\n",
       "      <td>25745</td>\n",
       "      <td>13732</td>\n",
       "      <td>5293</td>\n",
       "    </tr>\n",
       "    <tr>\n",
       "      <th>BOS</th>\n",
       "      <td>4913</td>\n",
       "      <td>15428</td>\n",
       "      <td>29291</td>\n",
       "      <td>75537</td>\n",
       "      <td>32788</td>\n",
       "      <td>13118</td>\n",
       "      <td>14495</td>\n",
       "    </tr>\n",
       "    <tr>\n",
       "      <th>BUF</th>\n",
       "      <td>8578</td>\n",
       "      <td>18615</td>\n",
       "      <td>42907</td>\n",
       "      <td>65944</td>\n",
       "      <td>36812</td>\n",
       "      <td>16056</td>\n",
       "      <td>6511</td>\n",
       "    </tr>\n",
       "    <tr>\n",
       "      <th>CAR</th>\n",
       "      <td>8534</td>\n",
       "      <td>16429</td>\n",
       "      <td>30896</td>\n",
       "      <td>77959</td>\n",
       "      <td>38582</td>\n",
       "      <td>10728</td>\n",
       "      <td>3356</td>\n",
       "    </tr>\n",
       "  </tbody>\n",
       "</table>\n",
       "</div>"
      ],
      "text/plain": [
       "ScoreDiff   -3.0   -2.0   -1.0    0.0    1.0    2.0    3.0\n",
       "Team                                                      \n",
       "ANA         9053  14383  31823  79803  36247  12043   7368\n",
       "ARI        12675  21997  36776  70567  25745  13732   5293\n",
       "BOS         4913  15428  29291  75537  32788  13118  14495\n",
       "BUF         8578  18615  42907  65944  36812  16056   6511\n",
       "CAR         8534  16429  30896  77959  38582  10728   3356"
      ]
     },
     "execution_count": 6,
     "metadata": {},
     "output_type": "execute_result"
    }
   ],
   "source": [
    "grouped = df.groupby(['Team', 'ScoreDiff']).count()\n",
    "grouped.reset_index(inplace=True)\n",
    "pivoted = grouped.pivot(index = 'Team', columns = 'ScoreDiff', values = 'Time')\n",
    "pivoted.head()"
   ]
  },
  {
   "cell_type": "code",
   "execution_count": 7,
   "metadata": {
    "collapsed": false
   },
   "outputs": [
    {
     "data": {
      "text/plain": [
       "(0, 100)"
      ]
     },
     "execution_count": 7,
     "metadata": {},
     "output_type": "execute_result"
    },
    {
     "data": {
      "image/png": "[encoded data removed]",
      "text/plain": [
       "<matplotlib.figure.Figure at 0x15e2d83c8>"
      ]
     },
     "metadata": {},
     "output_type": "display_data"
    }
   ],
   "source": [
    "seaborn.set_palette(seaborn.color_palette(\"BrBG\", 7), 7)\n",
    "temp = pivoted.rename(columns = {x: str(int(x)) for x in pivoted.columns})\n",
    "\n",
    "# Change to percentages\n",
    "temp['TotTime'] = temp.sum(axis = 1)\n",
    "for col in temp.columns:\n",
    "    temp.loc[:, col] = temp[col]/temp['TotTime'] * 100\n",
    "    \n",
    "# Sort by most time leading\n",
    "temp['LeadTime'] = temp['3'] + temp['2'] + temp['1']\n",
    "temp.sort_values(by='LeadTime', inplace = True)\n",
    "temp.drop({'LeadTime', 'TotTime'}, axis=1, inplace = True)\n",
    "\n",
    "# Rename +3 and -3\n",
    "temp = temp.rename(columns = {'-3': '<= -3', '3': '>= 3'})\n",
    "\n",
    "temp.plot.barh(stacked = True)\n",
    "legend(loc='upper left', bbox_to_anchor=(1, 1), title = 'Score difference')\n",
    "title('Team TOI by score state', size = 16)\n",
    "xlabel('% of 5v5 TOI')\n",
    "xlim(0, 100)"
   ]
  }
 ],
 "metadata": {
  "kernelspec": {
   "display_name": "Python 3",
   "language": "python",
   "name": "python3"
  },
  "language_info": {
   "codemirror_mode": {
    "name": "ipython",
    "version": 3
   },
   "file_extension": ".py",
   "mimetype": "text/x-python",
   "name": "python",
   "nbconvert_exporter": "python",
   "pygments_lexer": "ipython3",
   "version": "3.4.3"
  }
 },
 "nbformat": 4,
 "nbformat_minor": 0
}
