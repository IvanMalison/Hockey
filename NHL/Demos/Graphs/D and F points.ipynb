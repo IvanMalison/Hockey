{
 "cells": [
  {
   "cell_type": "code",
   "execution_count": 1,
   "metadata": {
    "collapsed": true
   },
   "outputs": [],
   "source": [
    "import PbPMethods2 as pm2\n",
    "import GetPbP\n",
    "from pylab import *\n",
    "%matplotlib inline\n",
    "import pandas as pd\n",
    "import seaborn"
   ]
  },
  {
   "cell_type": "code",
   "execution_count": 2,
   "metadata": {
    "collapsed": false
   },
   "outputs": [
    {
     "data": {
      "text/html": [
       "<div>\n",
       "<table border=\"1\" class=\"dataframe\">\n",
       "  <thead>\n",
       "    <tr style=\"text-align: right;\">\n",
       "      <th></th>\n",
       "      <th>Player</th>\n",
       "      <th>Team</th>\n",
       "      <th>Pos</th>\n",
       "      <th>Game</th>\n",
       "      <th>Season</th>\n",
       "      <th>Date</th>\n",
       "      <th>TOION(60s)</th>\n",
       "      <th>CFON</th>\n",
       "      <th>CAON</th>\n",
       "      <th>TOIOFF(60s)</th>\n",
       "      <th>...</th>\n",
       "      <th>NZS</th>\n",
       "      <th>OZS</th>\n",
       "      <th>iG</th>\n",
       "      <th>iCF</th>\n",
       "      <th>iA1</th>\n",
       "      <th>iA2</th>\n",
       "      <th>SACFON</th>\n",
       "      <th>SACAON</th>\n",
       "      <th>SACFOFF</th>\n",
       "      <th>SACAOFF</th>\n",
       "    </tr>\n",
       "  </thead>\n",
       "  <tbody>\n",
       "    <tr>\n",
       "      <th>0</th>\n",
       "      <td>Jean-Gabriel Pageau</td>\n",
       "      <td>OTT</td>\n",
       "      <td>F</td>\n",
       "      <td>20001</td>\n",
       "      <td>2016</td>\n",
       "      <td>12-Oct-16</td>\n",
       "      <td>0.173333</td>\n",
       "      <td>8</td>\n",
       "      <td>17</td>\n",
       "      <td>0.579167</td>\n",
       "      <td>...</td>\n",
       "      <td>4</td>\n",
       "      <td>2</td>\n",
       "      <td>0</td>\n",
       "      <td>1</td>\n",
       "      <td>0</td>\n",
       "      <td>0</td>\n",
       "      <td>7.764</td>\n",
       "      <td>18.239</td>\n",
       "      <td>26.342</td>\n",
       "      <td>55.038</td>\n",
       "    </tr>\n",
       "    <tr>\n",
       "      <th>1</th>\n",
       "      <td>Kyle Turris</td>\n",
       "      <td>OTT</td>\n",
       "      <td>F</td>\n",
       "      <td>20001</td>\n",
       "      <td>2016</td>\n",
       "      <td>12-Oct-16</td>\n",
       "      <td>0.260833</td>\n",
       "      <td>9</td>\n",
       "      <td>23</td>\n",
       "      <td>0.491667</td>\n",
       "      <td>...</td>\n",
       "      <td>3</td>\n",
       "      <td>2</td>\n",
       "      <td>1</td>\n",
       "      <td>1</td>\n",
       "      <td>0</td>\n",
       "      <td>0</td>\n",
       "      <td>8.545</td>\n",
       "      <td>24.570</td>\n",
       "      <td>25.561</td>\n",
       "      <td>48.707</td>\n",
       "    </tr>\n",
       "    <tr>\n",
       "      <th>2</th>\n",
       "      <td>Mark Borowiecki</td>\n",
       "      <td>OTT</td>\n",
       "      <td>D</td>\n",
       "      <td>20001</td>\n",
       "      <td>2016</td>\n",
       "      <td>12-Oct-16</td>\n",
       "      <td>0.173889</td>\n",
       "      <td>5</td>\n",
       "      <td>15</td>\n",
       "      <td>0.578611</td>\n",
       "      <td>...</td>\n",
       "      <td>5</td>\n",
       "      <td>3</td>\n",
       "      <td>0</td>\n",
       "      <td>1</td>\n",
       "      <td>0</td>\n",
       "      <td>0</td>\n",
       "      <td>4.598</td>\n",
       "      <td>16.555</td>\n",
       "      <td>29.508</td>\n",
       "      <td>56.722</td>\n",
       "    </tr>\n",
       "    <tr>\n",
       "      <th>3</th>\n",
       "      <td>Phil Varone</td>\n",
       "      <td>OTT</td>\n",
       "      <td>F</td>\n",
       "      <td>20001</td>\n",
       "      <td>2016</td>\n",
       "      <td>12-Oct-16</td>\n",
       "      <td>0.145556</td>\n",
       "      <td>7</td>\n",
       "      <td>14</td>\n",
       "      <td>0.606944</td>\n",
       "      <td>...</td>\n",
       "      <td>4</td>\n",
       "      <td>0</td>\n",
       "      <td>0</td>\n",
       "      <td>0</td>\n",
       "      <td>0</td>\n",
       "      <td>0</td>\n",
       "      <td>6.684</td>\n",
       "      <td>15.144</td>\n",
       "      <td>27.422</td>\n",
       "      <td>58.133</td>\n",
       "    </tr>\n",
       "    <tr>\n",
       "      <th>4</th>\n",
       "      <td>Bobby Ryan</td>\n",
       "      <td>OTT</td>\n",
       "      <td>F</td>\n",
       "      <td>20001</td>\n",
       "      <td>2016</td>\n",
       "      <td>12-Oct-16</td>\n",
       "      <td>0.187222</td>\n",
       "      <td>13</td>\n",
       "      <td>19</td>\n",
       "      <td>0.565278</td>\n",
       "      <td>...</td>\n",
       "      <td>5</td>\n",
       "      <td>8</td>\n",
       "      <td>1</td>\n",
       "      <td>4</td>\n",
       "      <td>0</td>\n",
       "      <td>1</td>\n",
       "      <td>12.309</td>\n",
       "      <td>20.027</td>\n",
       "      <td>21.797</td>\n",
       "      <td>53.250</td>\n",
       "    </tr>\n",
       "  </tbody>\n",
       "</table>\n",
       "<p>5 rows × 35 columns</p>\n",
       "</div>"
      ],
      "text/plain": [
       "                Player Team Pos   Game  Season       Date  TOION(60s)  CFON  \\\n",
       "0  Jean-Gabriel Pageau  OTT   F  20001    2016  12-Oct-16    0.173333     8   \n",
       "1          Kyle Turris  OTT   F  20001    2016  12-Oct-16    0.260833     9   \n",
       "2      Mark Borowiecki  OTT   D  20001    2016  12-Oct-16    0.173889     5   \n",
       "3          Phil Varone  OTT   F  20001    2016  12-Oct-16    0.145556     7   \n",
       "4           Bobby Ryan  OTT   F  20001    2016  12-Oct-16    0.187222    13   \n",
       "\n",
       "   CAON  TOIOFF(60s)   ...     NZS  OZS  iG  iCF  iA1  iA2  SACFON  SACAON  \\\n",
       "0    17     0.579167   ...       4    2   0    1    0    0   7.764  18.239   \n",
       "1    23     0.491667   ...       3    2   1    1    0    0   8.545  24.570   \n",
       "2    15     0.578611   ...       5    3   0    1    0    0   4.598  16.555   \n",
       "3    14     0.606944   ...       4    0   0    0    0    0   6.684  15.144   \n",
       "4    19     0.565278   ...       5    8   1    4    0    1  12.309  20.027   \n",
       "\n",
       "   SACFOFF  SACAOFF  \n",
       "0   26.342   55.038  \n",
       "1   25.561   48.707  \n",
       "2   29.508   56.722  \n",
       "3   27.422   58.133  \n",
       "4   21.797   53.250  \n",
       "\n",
       "[5 rows x 35 columns]"
      ]
     },
     "execution_count": 2,
     "metadata": {},
     "output_type": "execute_result"
    }
   ],
   "source": [
    "df = pd.read_csv(pm2.get_gamebygame_data_filename(2016))\n",
    "df.head()"
   ]
  },
  {
   "cell_type": "code",
   "execution_count": 3,
   "metadata": {
    "collapsed": false
   },
   "outputs": [
    {
     "data": {
      "text/html": [
       "<div>\n",
       "<table border=\"1\" class=\"dataframe\">\n",
       "  <thead>\n",
       "    <tr style=\"text-align: right;\">\n",
       "      <th></th>\n",
       "      <th>Player</th>\n",
       "      <th>Pos</th>\n",
       "      <th>iG</th>\n",
       "      <th>iA1</th>\n",
       "      <th>iA2</th>\n",
       "      <th>iP</th>\n",
       "    </tr>\n",
       "  </thead>\n",
       "  <tbody>\n",
       "    <tr>\n",
       "      <th>0</th>\n",
       "      <td>Aaron Ekblad</td>\n",
       "      <td>D</td>\n",
       "      <td>4</td>\n",
       "      <td>3</td>\n",
       "      <td>4</td>\n",
       "      <td>11</td>\n",
       "    </tr>\n",
       "    <tr>\n",
       "      <th>1</th>\n",
       "      <td>Adam Clendening</td>\n",
       "      <td>D</td>\n",
       "      <td>1</td>\n",
       "      <td>0</td>\n",
       "      <td>5</td>\n",
       "      <td>6</td>\n",
       "    </tr>\n",
       "    <tr>\n",
       "      <th>2</th>\n",
       "      <td>Adam Cracknell</td>\n",
       "      <td>F</td>\n",
       "      <td>7</td>\n",
       "      <td>1</td>\n",
       "      <td>2</td>\n",
       "      <td>10</td>\n",
       "    </tr>\n",
       "    <tr>\n",
       "      <th>3</th>\n",
       "      <td>Adam Erne</td>\n",
       "      <td>F</td>\n",
       "      <td>0</td>\n",
       "      <td>0</td>\n",
       "      <td>0</td>\n",
       "      <td>0</td>\n",
       "    </tr>\n",
       "    <tr>\n",
       "      <th>4</th>\n",
       "      <td>Adam Henrique</td>\n",
       "      <td>F</td>\n",
       "      <td>7</td>\n",
       "      <td>7</td>\n",
       "      <td>4</td>\n",
       "      <td>18</td>\n",
       "    </tr>\n",
       "  </tbody>\n",
       "</table>\n",
       "</div>"
      ],
      "text/plain": [
       "            Player Pos  iG  iA1  iA2  iP\n",
       "0     Aaron Ekblad   D   4    3    4  11\n",
       "1  Adam Clendening   D   1    0    5   6\n",
       "2   Adam Cracknell   F   7    1    2  10\n",
       "3        Adam Erne   F   0    0    0   0\n",
       "4    Adam Henrique   F   7    7    4  18"
      ]
     },
     "execution_count": 3,
     "metadata": {},
     "output_type": "execute_result"
    }
   ],
   "source": [
    "grouped = df[['Player', 'Pos', 'iG', 'iA1', 'iA2']].groupby(['Player', 'Pos']).sum()\n",
    "grouped.reset_index(inplace=True)\n",
    "grouped['iP'] = grouped['iG'] + grouped['iA1'] + grouped['iA2']\n",
    "grouped.head()"
   ]
  },
  {
   "cell_type": "code",
   "execution_count": 4,
   "metadata": {
    "collapsed": false
   },
   "outputs": [
    {
     "name": "stderr",
     "output_type": "stream",
     "text": [
      "/Library/Frameworks/Python.framework/Versions/3.4/lib/python3.4/site-packages/ipykernel/__main__.py:3: SettingWithCopyWarning: \n",
      "A value is trying to be set on a copy of a slice from a DataFrame\n",
      "\n",
      "See the caveats in the documentation: http://pandas.pydata.org/pandas-docs/stable/indexing.html#indexing-view-versus-copy\n",
      "  app.launch_new_instance()\n"
     ]
    },
    {
     "data": {
      "text/plain": [
       "<matplotlib.axes._subplots.AxesSubplot at 0x10bd96f60>"
      ]
     },
     "execution_count": 4,
     "metadata": {},
     "output_type": "execute_result"
    },
    {
     "data": {
      "image/png": "[encoded data removed]",
      "text/plain": [
       "<matplotlib.figure.Figure at 0x10bd97240>"
      ]
     },
     "metadata": {},
     "output_type": "display_data"
    }
   ],
   "source": [
    "topd = grouped[(grouped.iP >= 20) & (grouped.Pos == 'D')]\n",
    "topd.set_index(['Player'], inplace=True)\n",
    "topd.sort_values(by='iP', inplace=True)\n",
    "topd = topd[['iG', 'iA1', 'iA2']]\n",
    "topd.plot.barh(stacked=True, title = 'Defenseman 5v5 scoring this season')"
   ]
  },
  {
   "cell_type": "code",
   "execution_count": 5,
   "metadata": {
    "collapsed": false
   },
   "outputs": [
    {
     "name": "stderr",
     "output_type": "stream",
     "text": [
      "/Library/Frameworks/Python.framework/Versions/3.4/lib/python3.4/site-packages/ipykernel/__main__.py:3: SettingWithCopyWarning: \n",
      "A value is trying to be set on a copy of a slice from a DataFrame\n",
      "\n",
      "See the caveats in the documentation: http://pandas.pydata.org/pandas-docs/stable/indexing.html#indexing-view-versus-copy\n",
      "  app.launch_new_instance()\n"
     ]
    },
    {
     "data": {
      "text/plain": [
       "<matplotlib.axes._subplots.AxesSubplot at 0x103ecbb00>"
      ]
     },
     "execution_count": 5,
     "metadata": {},
     "output_type": "execute_result"
    },
    {
     "data": {
      "image/png": "[encoded data removed]",
      "text/plain": [
       "<matplotlib.figure.Figure at 0x1026f4320>"
      ]
     },
     "metadata": {},
     "output_type": "display_data"
    }
   ],
   "source": [
    "topf = grouped[(grouped.iP >= 30) & (grouped.Pos == 'F')]\n",
    "topf.set_index(['Player'], inplace=True)\n",
    "topf.sort_values(by='iP', inplace=True)\n",
    "topf = topf[['iG', 'iA1', 'iA2']]\n",
    "topf.plot.barh(stacked=True, title = 'Forward 5v5 scoring this season')"
   ]
  }
 ],
 "metadata": {
  "kernelspec": {
   "display_name": "Python 3",
   "language": "python",
   "name": "python3"
  },
  "language_info": {
   "codemirror_mode": {
    "name": "ipython",
    "version": 3
   },
   "file_extension": ".py",
   "mimetype": "text/x-python",
   "name": "python",
   "nbconvert_exporter": "python",
   "pygments_lexer": "ipython3",
   "version": "3.4.3"
  }
 },
 "nbformat": 4,
 "nbformat_minor": 0
}
