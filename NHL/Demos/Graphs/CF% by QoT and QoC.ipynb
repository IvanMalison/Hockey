{
 "cells": [
  {
   "cell_type": "markdown",
   "metadata": {},
   "source": [
    "The objective is to make graphs that show player, line, or pair performance by varying levels of QoC and QoT. In the past, I've done it with hexbin charts, but here, I'll change things up a little, to show sample size."
   ]
  },
  {
   "cell_type": "code",
   "execution_count": 1,
   "metadata": {
    "collapsed": true
   },
   "outputs": [],
   "source": [
    "player = 'Matt Niskanen'\n",
    "team = 'WSH'\n",
    "startseason = 2015\n",
    "endseason = 2016\n",
    "yaxis = 'F QoC Bin'\n",
    "xaxis = 'F QoT Bin'"
   ]
  },
  {
   "cell_type": "code",
   "execution_count": 2,
   "metadata": {
    "collapsed": true
   },
   "outputs": [],
   "source": [
    "import PbPMethods2 as pm2\n",
    "from pylab import *\n",
    "%matplotlib inline\n",
    "import pandas as pd\n",
    "import seaborn"
   ]
  },
  {
   "cell_type": "code",
   "execution_count": 3,
   "metadata": {
    "collapsed": true
   },
   "outputs": [],
   "source": [
    "dfs = []\n",
    "for season in range(startseason, endseason + 1):\n",
    "    dfs.append(pd.read_csv(pm2.get_gamebygame_data_filename(season)))\n",
    "dfs = pd.concat(dfs)"
   ]
  },
  {
   "cell_type": "code",
   "execution_count": 4,
   "metadata": {
    "collapsed": false
   },
   "outputs": [],
   "source": [
    "grouped = dfs[['Season', 'Player', 'Team', 'TOION(60s)', 'TOIOFF(60s)']].groupby(['Season', 'Player', 'Team']).sum()\n",
    "grouped['TOI60'] = 60 * grouped['TOION(60s)'] / (grouped['TOION(60s)'] + grouped['TOIOFF(60s)'])\n",
    "grouped.reset_index(inplace=True)\n",
    "toi60 = {}\n",
    "for i in range(len(grouped)):\n",
    "    s = grouped['Season'].iloc[i]\n",
    "    t = grouped['Team'].iloc[i]\n",
    "    p = grouped['Player'].iloc[i]\n",
    "    toi = grouped['TOI60'].iloc[i]\n",
    "    if s not in toi60:\n",
    "        toi60[s] = {}\n",
    "    if t not in toi60[s]:\n",
    "        toi60[s][t] = {}\n",
    "    toi60[s][t][p] = toi"
   ]
  },
  {
   "cell_type": "code",
   "execution_count": 5,
   "metadata": {
    "collapsed": false
   },
   "outputs": [
    {
     "name": "stdout",
     "output_type": "stream",
     "text": [
      "Done with 2015\n",
      "Done with 2016\n"
     ]
    }
   ],
   "source": [
    "fopp = []\n",
    "fteam = []\n",
    "dopp = []\n",
    "dteam = []\n",
    "cf = []\n",
    "ca = []\n",
    "for season in range(startseason, endseason + 1):\n",
    "    for line in pm2.read_team_corsi(team, season):\n",
    "        if player in pm2.get_home_players(line):\n",
    "            opponent = line[1][-3:]\n",
    "            temp = []\n",
    "            for p in pm2.get_home_players(line, ['F']):\n",
    "                if not p == player:\n",
    "                    temp.append(toi60[season][team][p])\n",
    "            if len(temp) == 0:\n",
    "                temp.append(0)\n",
    "            fteam.append(mean(temp))\n",
    "\n",
    "            temp = []\n",
    "            for p in pm2.get_home_players(line, ['D']):\n",
    "                if not p == player:\n",
    "                    temp.append(toi60[season][team][p])\n",
    "            if len(temp) == 0:\n",
    "                temp.append(0)\n",
    "            dteam.append(mean(temp))\n",
    "\n",
    "            temp = []\n",
    "            for p in pm2.get_road_players(line, ['F']):\n",
    "                if not p == player:\n",
    "                    temp.append(toi60[season][opponent][p])\n",
    "            if len(temp) == 0:\n",
    "                temp.append(0)\n",
    "            fopp.append(mean(temp))\n",
    "\n",
    "            temp = []\n",
    "            for p in pm2.get_road_players(line, ['D']):\n",
    "                if not p == player:\n",
    "                    temp.append(toi60[season][opponent][p])\n",
    "            if len(temp) == 0:\n",
    "                temp.append(0)\n",
    "            dopp.append(mean(temp))\n",
    "\n",
    "            if pm2.get_acting_team(line) == team:\n",
    "                cf.append(1)\n",
    "                ca.append(0)\n",
    "            else:\n",
    "                cf.append(0)\n",
    "                ca.append(1)\n",
    "    print('Done with', season)"
   ]
  },
  {
   "cell_type": "code",
   "execution_count": 6,
   "metadata": {
    "collapsed": false
   },
   "outputs": [
    {
     "data": {
      "text/html": [
       "<div>\n",
       "<table border=\"1\" class=\"dataframe\">\n",
       "  <thead>\n",
       "    <tr style=\"text-align: right;\">\n",
       "      <th></th>\n",
       "      <th>F QoT Bin</th>\n",
       "      <th>F QoC Bin</th>\n",
       "      <th>CF</th>\n",
       "      <th>CA</th>\n",
       "      <th>CFN</th>\n",
       "      <th>CF%</th>\n",
       "    </tr>\n",
       "  </thead>\n",
       "  <tbody>\n",
       "    <tr>\n",
       "      <th>64</th>\n",
       "      <td>16.5</td>\n",
       "      <td>16.5</td>\n",
       "      <td>257</td>\n",
       "      <td>226</td>\n",
       "      <td>483</td>\n",
       "      <td>0.532091</td>\n",
       "    </tr>\n",
       "    <tr>\n",
       "      <th>74</th>\n",
       "      <td>17.5</td>\n",
       "      <td>16.5</td>\n",
       "      <td>224</td>\n",
       "      <td>241</td>\n",
       "      <td>465</td>\n",
       "      <td>0.481720</td>\n",
       "    </tr>\n",
       "    <tr>\n",
       "      <th>65</th>\n",
       "      <td>16.5</td>\n",
       "      <td>17.5</td>\n",
       "      <td>211</td>\n",
       "      <td>163</td>\n",
       "      <td>374</td>\n",
       "      <td>0.564171</td>\n",
       "    </tr>\n",
       "    <tr>\n",
       "      <th>75</th>\n",
       "      <td>17.5</td>\n",
       "      <td>17.5</td>\n",
       "      <td>168</td>\n",
       "      <td>145</td>\n",
       "      <td>313</td>\n",
       "      <td>0.536741</td>\n",
       "    </tr>\n",
       "    <tr>\n",
       "      <th>63</th>\n",
       "      <td>16.5</td>\n",
       "      <td>15.5</td>\n",
       "      <td>122</td>\n",
       "      <td>110</td>\n",
       "      <td>232</td>\n",
       "      <td>0.525862</td>\n",
       "    </tr>\n",
       "  </tbody>\n",
       "</table>\n",
       "</div>"
      ],
      "text/plain": [
       "    F QoT Bin  F QoC Bin   CF   CA  CFN       CF%\n",
       "64       16.5       16.5  257  226  483  0.532091\n",
       "74       17.5       16.5  224  241  465  0.481720\n",
       "65       16.5       17.5  211  163  374  0.564171\n",
       "75       17.5       17.5  168  145  313  0.536741\n",
       "63       16.5       15.5  122  110  232  0.525862"
      ]
     },
     "execution_count": 6,
     "metadata": {},
     "output_type": "execute_result"
    }
   ],
   "source": [
    "oppteamcfdf = pd.DataFrame({'F QoC': fopp, 'D QoC': dopp, 'F QoT': fteam, 'D QoT': dteam, 'CF': cf, 'CA': ca})\n",
    "oppteamcfdf['F QoC Bin'] = oppteamcfdf['F QoC'].apply(lambda x: floor(x) + 0.5)\n",
    "oppteamcfdf['D QoC Bin'] = oppteamcfdf['D QoC'].apply(lambda x: floor(x) + 0.5)\n",
    "oppteamcfdf['F QoT Bin'] = oppteamcfdf['F QoT'].apply(lambda x: floor(x) + 0.5)\n",
    "oppteamcfdf['D QoT Bin'] = oppteamcfdf['D QoT'].apply(lambda x: floor(x) + 0.5)\n",
    "cfbinned = oppteamcfdf[[xaxis, yaxis, 'CF', 'CA']].groupby([xaxis, yaxis]).sum()\n",
    "cfbinned.reset_index(inplace=True)\n",
    "cfbinned['CFN'] = cfbinned['CF'] + cfbinned['CA']\n",
    "cfbinned['CF%'] = cfbinned['CF'] / cfbinned['CFN']\n",
    "cfbinned = cfbinned.sort_values(by='CFN', ascending=False)\n",
    "cfbinned.head()"
   ]
  },
  {
   "cell_type": "code",
   "execution_count": 7,
   "metadata": {
    "collapsed": false
   },
   "outputs": [
    {
     "data": {
      "text/plain": [
       "<matplotlib.text.Text at 0x10b8d7438>"
      ]
     },
     "execution_count": 7,
     "metadata": {},
     "output_type": "execute_result"
    },
    {
     "data": {
      "image/png": "[encoded data removed]",
      "text/plain": [
       "<matplotlib.figure.Figure at 0x104484d68>"
      ]
     },
     "metadata": {},
     "output_type": "display_data"
    }
   ],
   "source": [
    "scatter(cfbinned[xaxis], cfbinned[yaxis], s=cfbinned['CFN'], c=cfbinned['CF%'], \n",
    "        cmap=plt.cm.PRGn, vmin = 0.3, vmax = 0.7)\n",
    "\n",
    "annotate('N = {0:d}'.format(cfbinned['CFN'].iloc[0]), \n",
    "         xy=(cfbinned[xaxis].iloc[0], cfbinned[yaxis].iloc[0]),\n",
    "         va = 'center', ha = 'center', size = 10)\n",
    "cfbinnedhalved = cfbinned[cfbinned.CFN < cfbinned['CFN'].iloc[0] / 2]\n",
    "annotate('N = {0:d}'.format(cfbinnedhalved['CFN'].iloc[0]), \n",
    "         xy=(cfbinnedhalved[xaxis].iloc[0], cfbinnedhalved[yaxis].iloc[0]),\n",
    "         va = 'center', ha = 'center', size = 10)\n",
    "\n",
    "cbar = colorbar(orientation='vertical', fraction=0.05)\n",
    "cbar.set_label('CF%')\n",
    "cbar.ax.set_yticklabels(['{0:d}%'.format(int(float(x.get_text()) * 100)) for x in cbar.ax.get_yticklabels()])\n",
    "xlabel(xaxis)\n",
    "ylabel(yaxis)\n",
    "if isinstance(endseason, int):\n",
    "    endseason = str(endseason + 1)[2:]\n",
    "title('{0:s} {1:d}-{2:s} SAT breakdown'.format(player, startseason, endseason), y=1.05, size = 20)"
   ]
  }
 ],
 "metadata": {
  "kernelspec": {
   "display_name": "Python 3",
   "language": "python",
   "name": "python3"
  },
  "language_info": {
   "codemirror_mode": {
    "name": "ipython",
    "version": 3
   },
   "file_extension": ".py",
   "mimetype": "text/x-python",
   "name": "python",
   "nbconvert_exporter": "python",
   "pygments_lexer": "ipython3",
   "version": "3.4.3"
  }
 },
 "nbformat": 4,
 "nbformat_minor": 0
}
