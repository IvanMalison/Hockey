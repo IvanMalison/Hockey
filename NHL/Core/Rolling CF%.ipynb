{
 "cells": [
  {
   "cell_type": "markdown",
   "metadata": {},
   "source": [
    "# Create rolling CF% graphs for individuals\n",
    "Game plan: read game by game stats, set parameters, calculate, plot."
   ]
  },
  {
   "cell_type": "markdown",
   "metadata": {},
   "source": [
    "### Import"
   ]
  },
  {
   "cell_type": "code",
   "execution_count": 1,
   "metadata": {
    "collapsed": false
   },
   "outputs": [],
   "source": [
    "import PbPMethods2 as pm2\n",
    "from pylab import *\n",
    "%matplotlib inline\n",
    "import pandas as pd\n",
    "import GetPbP\n",
    "import matplotlib.patheffects as path_effects"
   ]
  },
  {
   "cell_type": "markdown",
   "metadata": {},
   "source": [
    "### Generate game-by-game data \n",
    "Do this only if you haven't already at least once. (It saves to file, so you don't need to run it every time you open this notebook.) Re-run to update current season data. (The '#' ensures code after it on the same line doesn't run.)\n",
    "<p>This will take a long time and give you some errors--known errors are <a href=\"https://github.com/muneebalam/Hockey/blob/master/NHL/Quick-graphs/gengamebygameerrors.txt\">listed here</a>."
   ]
  },
  {
   "cell_type": "code",
   "execution_count": 2,
   "metadata": {
    "collapsed": true
   },
   "outputs": [],
   "source": [
    "seasons_to_update = [2007, 2008, 2009, 2010, 2011, 2012, 2013, 2014, 2015]\n",
    "#pm2.gen_gamebygame(season)"
   ]
  },
  {
   "cell_type": "markdown",
   "metadata": {
    "collapsed": false
   },
   "source": [
    "### Read in game by game data\n",
    "Do this only once, each time you open this notebook, to load data into memory."
   ]
  },
  {
   "cell_type": "code",
   "execution_count": 3,
   "metadata": {
    "collapsed": false
   },
   "outputs": [],
   "source": [
    "dfs = []\n",
    "for season in range(2007, 2017):\n",
    "    dfs.append(pd.read_csv(pm2.get_gamebygame_data_filename(season)))\n",
    "dfs = pd.concat(dfs)\n",
    "#dfs.head()"
   ]
  },
  {
   "cell_type": "markdown",
   "metadata": {},
   "source": [
    "### Select the player, teams, seasons etc you want.\n",
    "If you want to generate more graphs start re-running code from here."
   ]
  },
  {
   "cell_type": "code",
   "execution_count": 100,
   "metadata": {
    "collapsed": false
   },
   "outputs": [],
   "source": [
    "player = \"Andre Burakovsky\"\n",
    "start_date = '2012-09-15' #use mid-Sept to be safe because some seasons have Euro premiere games\n",
    "end_date = '2017-06-21' #Format: yyyy-mm-dd\n",
    "\n",
    "teams = 'all' #or, e.g. {'WSH'}, or {'WSH', 'T.B'}\n",
    "roll_len = 25 #in games\n",
    "\n",
    "score_adjusted = True #Can also set to False. Method conceptually similar to @IneffectiveMath\n",
    "include_playoffs = True #can also set to False\n",
    "save_file = None #set to something to save figure\n",
    "gapless = True #Will avoid long offseason flatlines (no games = no change in CF%)\n",
    "    \n",
    "if teams == 'all':\n",
    "    teams = GetPbP.TEAMS"
   ]
  },
  {
   "cell_type": "markdown",
   "metadata": {},
   "source": [
    "### Filter based on above parameters\n",
    "Note how I select a date range here. This can be very useful (for example, if you want to edit the usage charts notebook code to take a date range instead of specific seasons)."
   ]
  },
  {
   "cell_type": "code",
   "execution_count": 101,
   "metadata": {
    "collapsed": false
   },
   "outputs": [],
   "source": [
    "df = dfs[dfs.Player == player]\n",
    "df = df[df.Team.apply(lambda x: x in teams)]\n",
    "\n",
    "df['Date2'] = pd.to_datetime(df['Date'], infer_datetime_format=True)\n",
    "df.sort_values('Date2', inplace=True)\n",
    "df.set_index('Date2', inplace=True)\n",
    "df = df.ix[start_date : end_date]\n",
    "\n",
    "if gapless:\n",
    "    df.reset_index(inplace=True)\n",
    "\n",
    "if not include_playoffs:\n",
    "    df = df[df.Game <= 21230]"
   ]
  },
  {
   "cell_type": "markdown",
   "metadata": {
    "collapsed": false
   },
   "source": [
    "### Calculate"
   ]
  },
  {
   "cell_type": "code",
   "execution_count": 102,
   "metadata": {
    "collapsed": false
   },
   "outputs": [],
   "source": [
    "if score_adjusted:\n",
    "    cols_to_use = ['SACF', 'SACA']\n",
    "else:\n",
    "    cols_to_use = ['CF', 'CA']\n",
    "    \n",
    "end_vars = [cols_to_use[0]+'%', cols_to_use[0]+' Off%']\n",
    "cols_to_use = [cols_to_use[0]+'ON', cols_to_use[1]+'ON', \n",
    "               cols_to_use[0]+'OFF', cols_to_use[1]+'OFF']"
   ]
  },
  {
   "cell_type": "code",
   "execution_count": 103,
   "metadata": {
    "collapsed": false
   },
   "outputs": [],
   "source": [
    "cols_to_use2 = []\n",
    "for col in cols_to_use:\n",
    "    cols_to_use2.append('{0:d}-game {1:s}'.format(roll_len, col))\n",
    "    df[cols_to_use2[-1]] = pd.rolling_mean(df[col], roll_len, 0)\n",
    "df[end_vars[0]] = df[cols_to_use2[0]] / (df[cols_to_use2[0]] + df[cols_to_use2[1]])\n",
    "df[end_vars[1]] = df[cols_to_use2[2]] / (df[cols_to_use2[2]] + df[cols_to_use2[3]])"
   ]
  },
  {
   "cell_type": "code",
   "execution_count": 104,
   "metadata": {
    "collapsed": true
   },
   "outputs": [],
   "source": [
    "def format_timestamp_as_mdyy(ts):\n",
    "    st = str(ts).split(' ')[0]\n",
    "    y, m, d = st.split('-')\n",
    "    m = int(m)\n",
    "    d = int(d)\n",
    "    return '{0:d}/{1:d}\\n{2:s}'.format(m, d, y)"
   ]
  },
  {
   "cell_type": "code",
   "execution_count": 105,
   "metadata": {
    "collapsed": false
   },
   "outputs": [],
   "source": [
    "indices_to_change_colors = [0]\n",
    "teamnames = [df['Team'].iloc[0]]\n",
    "team_annot_x = []\n",
    "team_annot_y = [0.37]\n",
    "colors = GetPbP.TEAM_COLOR_DCT[teamnames[0]]\n",
    "c1 = colors[0]\n",
    "c2 = colors[1]\n",
    "color1 = [c1]\n",
    "color2 = [c2]\n",
    "next_year_indices = [0]\n",
    "start_date2 = pd.Timestamp(df['Date2'].iloc[0])\n",
    "end_date2 = pd.Timestamp(df['Date2'].iloc[-1])\n",
    "next_year_dates = [format_timestamp_as_mdyy(start_date2)]\n",
    "years_elapsed = 0\n",
    "oneyr = pd.Timedelta('365 days')\n",
    "for i in range(1, len(df)):\n",
    "    if gapless:\n",
    "        current_date = df['Date2'].iloc[i]\n",
    "    else:\n",
    "        current_date = df.index[i]\n",
    "    if current_date - start_date2 >= (years_elapsed + 1) * oneyr:\n",
    "        next_year_indices.append(i)\n",
    "        next_year_dates.append(format_timestamp_as_mdyy(current_date))\n",
    "        years_elapsed += 1\n",
    "    \n",
    "    if df['Team'].iloc[i] == df['Team'].iloc[i - 1]:\n",
    "        pass\n",
    "    else:\n",
    "        indices_to_change_colors.append(i)\n",
    "        teamnames.append(df['Team'].iloc[i])\n",
    "        c1, c2 = GetPbP.TEAM_COLOR_DCT[teamnames[-1]]\n",
    "        color1.append(c1)\n",
    "        color2.append(c2)\n",
    "        \n",
    "        dt = df.index[indices_to_change_colors[-1] - 1]\n",
    "        dt = dt - df.index[indices_to_change_colors[-2]]\n",
    "        \n",
    "        team_annot_x.append(df.index[indices_to_change_colors[-2]] + dt/2)\n",
    "        nexty = team_annot_y[0] - team_annot_y[-1] + 0.4\n",
    "        team_annot_y.append(nexty) #alternate between 0.37 and 0.40\n",
    "        \n",
    "indices_to_change_colors.append(len(df))\n",
    "dt = df.index[-1]\n",
    "dt = dt - df.index[indices_to_change_colors[-2]]\n",
    "team_annot_x.append(df.index[indices_to_change_colors[-2]] + dt/2)"
   ]
  },
  {
   "cell_type": "markdown",
   "metadata": {
    "collapsed": false
   },
   "source": [
    "### Plot"
   ]
  },
  {
   "cell_type": "code",
   "execution_count": 106,
   "metadata": {
    "collapsed": false
   },
   "outputs": [
    {
     "data": {
      "image/png": "[encoded data removed]",
      "text/plain": [
       "<matplotlib.figure.Figure at 0x109fccb00>"
      ]
     },
     "metadata": {},
     "output_type": "display_data"
    }
   ],
   "source": [
    "for i in range(len(indices_to_change_colors) - 1):\n",
    "    starti = indices_to_change_colors[i]\n",
    "    endi = indices_to_change_colors[i + 1]\n",
    "    \n",
    "    #plot dual-color line\n",
    "    line = plot(df[end_vars[0]].iloc[starti : endi + 1], c=color2[i], \n",
    "                lw=1, label='CF% On')\n",
    "    line[0].set_path_effects([path_effects.Stroke(linewidth=3, foreground=color1[i]),\n",
    "                           path_effects.Normal()])\n",
    "    \n",
    "    line = plot(df[end_vars[1]].iloc[starti : endi + 1], c=color2[i], \n",
    "                lw=1, label='CF% Off', ls='--', alpha=0.5)\n",
    "    line[0].set_path_effects([path_effects.Stroke(linewidth=2, foreground=color1[i]),\n",
    "                           path_effects.Normal()])\n",
    "    \n",
    "    annotate(teamnames[i], xy=(team_annot_x[i], team_annot_y[i]), va='bottom',\n",
    "            bbox=dict(boxstyle='round', facecolor='wheat', edgecolor='black'), fontsize=16)\n",
    "    \n",
    "    if i == 0:\n",
    "        legend(loc=1, title='Legend', fontsize=10, ncol=2, framealpha=0.5)\n",
    "    \n",
    "ylim(0.35, 0.65)\n",
    "ys = arange(0.35, 0.70, 0.05)\n",
    "yticks(ys, ['{0:.0f}%'.format(y*100) for y in ys])\n",
    "\n",
    "if gapless:\n",
    "    xlim(0, len(df))\n",
    "    xticks(next_year_indices, next_year_dates, ha='left')\n",
    "else:\n",
    "    xlim(start_date2, end_date2)\n",
    "if score_adjusted:\n",
    "    titletext = '{0:d}-game rolling SACF% for {1:s}'.format(roll_len, player)\n",
    "else:\n",
    "    titletext = '{0:d}-game rolling CF% for {1:s}'.format(roll_len, player)\n",
    "titletext += '\\n{0:s} to {1:s}'.format(format_timestamp_as_mdyy(start_date2).replace('\\n', '/'), \n",
    "                                       format_timestamp_as_mdyy(end_date2).replace('\\n', '/'))\n",
    "title(titletext)\n",
    "\n",
    "if save_file is not None:\n",
    "    savefig(save_file)"
   ]
  },
  {
   "cell_type": "code",
   "execution_count": null,
   "metadata": {
    "collapsed": false
   },
   "outputs": [],
   "source": []
  },
  {
   "cell_type": "code",
   "execution_count": null,
   "metadata": {
    "collapsed": true
   },
   "outputs": [],
   "source": []
  }
 ],
 "metadata": {
  "kernelspec": {
   "display_name": "Python 3",
   "language": "python",
   "name": "python3"
  },
  "language_info": {
   "codemirror_mode": {
    "name": "ipython",
    "version": 3
   },
   "file_extension": ".py",
   "mimetype": "text/x-python",
   "name": "python",
   "nbconvert_exporter": "python",
   "pygments_lexer": "ipython3",
   "version": "3.4.3"
  }
 },
 "nbformat": 4,
 "nbformat_minor": 0
}
