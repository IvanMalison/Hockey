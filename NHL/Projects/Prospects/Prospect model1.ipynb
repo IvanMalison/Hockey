{
 "cells": [
  {
   "cell_type": "markdown",
   "metadata": {},
   "source": [
    "Let's build a prospect model."
   ]
  },
  {
   "cell_type": "markdown",
   "metadata": {},
   "source": [
    "Before we start, here's some related research:\n",
    "<ul><li><a href=\"http://canucksarmy.com/2015/5/26/draft-analytics-unveiling-the-prospect-cohort-success-model\">Introducing PCS</a>\n",
    "<li><a href=\"http://prospect-stats.com/blog/Introducing_DEV.html\">Draft expected value</a>"
   ]
  },
  {
   "cell_type": "code",
   "execution_count": 125,
   "metadata": {
    "collapsed": true
   },
   "outputs": [],
   "source": [
    "import GetPbP\n",
    "EP_FOLDER = GetPbP.get_additional_data_folder() + 'EP/' #data from eliteprospects api, which I got permission to use\n",
    "from os import listdir\n",
    "import pandas as pd\n",
    "import json\n",
    "import numpy as np\n",
    "import matplotlib.pyplot as plt\n",
    "%matplotlib inline\n",
    "player_ref_fname = GetPbP.get_additional_data_folder() + 'EP player reference.txt'\n",
    "player_stats_fname = GetPbP.get_additional_data_folder() + 'CHLF stats.txt'\n",
    "player_inter_data = GetPbP.get_additional_data_folder() + 'mod1 data.csv'"
   ]
  },
  {
   "cell_type": "markdown",
   "metadata": {},
   "source": [
    "\"Paralysis by analysis\" is an easy trap to fall into here. \n",
    "<p>First, we need to decide on the basic approach. We can use a logistic regression to estimate the probability of \"making\" the NHL, or another type of regression to predict \"performance.\" We could also use, as in PCS, something more like a k-nearest-neighbors approach—find the most similar players historically, and see how they fared.\n",
    "<p>Next, we have to decide on a dependent variable. Games played? Points? Points per game?  Point shares from Hockey Reference? GVT? Everything, after developing a similarity score?\n",
    "<p>On a more basic level--should it be continuous or binary? (Recall that Josh W and Moneypuck's PCS uses a 200-GP threshold. Binary dependent variables lend themselves easily to classifiers and logit.) Should it differ by position? Should we include performance in lower-level leagues? (For example, an AHL all-star is better than an AHL grinder, and we may not want to simply equate them in the model.)\n",
    "<p>Next, we have to decide on which variables to include—mainly, if we want to adjust for eras.\n",
    "<p>We also need to consider change over time in the different leagues. For example, how do we handle NHL expansion? The changing strength of different leagues around the world? Do we set time limits? Do we model league strength over time and use this to adjust each of their numbers? What about player tendencies? (e.g. A Soviet player of relative talent level X might be less likely to defect to the NHL than a modern Russian player of relative talent level X. Or maybe it's the other way around. Point is, there's a cost associated with moving overseas, and the opportunity cost of passing on the NHL can change with time.)"
   ]
  },
  {
   "cell_type": "markdown",
   "metadata": {},
   "source": [
    "The best strategy might be to start really simply and go from there. Let's start with forwards coming out Canadian major junior and try to predict their NHL GP."
   ]
  },
  {
   "cell_type": "markdown",
   "metadata": {},
   "source": [
    "### Read through all player files, generate file with their name/dob/player page/leagues\n",
    "This will take a looooong time to run."
   ]
  },
  {
   "cell_type": "code",
   "execution_count": 38,
   "metadata": {
    "collapsed": false
   },
   "outputs": [
    {
     "data": {
      "text/plain": [
       "457006"
      ]
     },
     "execution_count": 38,
     "metadata": {},
     "output_type": "execute_result"
    }
   ],
   "source": [
    "#generate list of all files\n",
    "layer1 = set(EP_FOLDER + x + '/' for x in listdir(EP_FOLDER) if not x == '.DS_Store')\n",
    "layer2 = set()\n",
    "layer3 = set()\n",
    "for parent in layer1:\n",
    "    for child in set(listdir(parent)):\n",
    "        if not child == '.DS_Store':\n",
    "            layer2.add(parent + child + '/')\n",
    "for parent in layer2:\n",
    "    for child in set(listdir(parent)):\n",
    "        if len(child) >= 5 and child[-5:] == '.json':\n",
    "            layer3.add(parent + child)\n",
    "len(layer3)"
   ]
  },
  {
   "cell_type": "code",
   "execution_count": 69,
   "metadata": {
    "collapsed": false
   },
   "outputs": [
    {
     "name": "stdout",
     "output_type": "stream",
     "text": [
      "Done through 0 (0%)\n",
      "Done through 10000 (2%)\n",
      "Done through 20000 (4%)\n",
      "Done through 30000 (7%)\n",
      "Done through 40000 (9%)\n",
      "Done through 50000 (11%)\n",
      "Done through 60000 (13%)\n",
      "Done through 70000 (15%)\n",
      "Done through 80000 (18%)\n",
      "Done through 90000 (20%)\n",
      "Done through 100000 (22%)\n",
      "Done through 110000 (24%)\n",
      "Done through 120000 (26%)\n",
      "Done through 130000 (28%)\n",
      "Done through 140000 (31%)\n",
      "Done through 150000 (33%)\n",
      "Done through 160000 (35%)\n",
      "Done through 170000 (37%)\n",
      "Done through 180000 (39%)\n",
      "Done through 190000 (42%)\n",
      "Done through 200000 (44%)\n",
      "Done through 210000 (46%)\n",
      "Done through 220000 (48%)\n",
      "Done through 230000 (50%)\n",
      "Done through 240000 (53%)\n",
      "Done through 250000 (55%)\n",
      "Done through 260000 (57%)\n",
      "Done through 270000 (59%)\n",
      "Done through 280000 (61%)\n",
      "Done through 290000 (63%)\n",
      "Done through 300000 (66%)\n",
      "Done through 310000 (68%)\n",
      "Done through 320000 (70%)\n",
      "Done through 330000 (72%)\n",
      "Done through 340000 (74%)\n",
      "Done through 350000 (77%)\n",
      "Done through 360000 (79%)\n",
      "Done through 370000 (81%)\n",
      "Done through 380000 (83%)\n",
      "Done through 390000 (85%)\n",
      "Done through 400000 (88%)\n",
      "Done through 410000 (90%)\n",
      "Done through 420000 (92%)\n",
      "Done through 430000 (94%)\n",
      "Done through 440000 (96%)\n",
      "Done through 450000 (98%)\n"
     ]
    }
   ],
   "source": [
    "limit = 1#len(layer3)\n",
    "firstnames = []\n",
    "lastnames = []\n",
    "dobs = []\n",
    "filenames = []\n",
    "leagues = []\n",
    "positions = []\n",
    "for i, file in enumerate(layer3):\n",
    "    if i >= limit:\n",
    "        break\n",
    "    firstnames.append('')\n",
    "    lastnames.append('')\n",
    "    dobs.append('')\n",
    "    filenames.append(file)\n",
    "    leagues.append(set())\n",
    "    positions.append(set())\n",
    "    r = open(file, 'r')\n",
    "    data = json.loads(r.read())\n",
    "    r.close()\n",
    "    if not 'data' in data:\n",
    "        pass\n",
    "    else:\n",
    "        data = data['data']\n",
    "        if len(data) > 0:\n",
    "            try:\n",
    "                playerdata = data[0]['player']\n",
    "                firstnames[-1] = playerdata['firstName']\n",
    "                lastnames[-1] = playerdata['lastName']\n",
    "                dobs[-1] = playerdata['dateOfBirth']\n",
    "                for dct in data:\n",
    "                    if 'playerPosition' in dct['player']:\n",
    "                        positions[-1].add(dct['player']['playerPosition'])\n",
    "                    if 'fullName' in dct['league']:\n",
    "                        leagues[-1].add(dct['league']['fullName'])\n",
    "                    else:\n",
    "                        leagues[-1].add(dct['league']['name'])\n",
    "            except KeyError:\n",
    "                pass #I need complete data for this to work!\n",
    "    if i % 10000 == 0:\n",
    "        print('Done through {0:d} ({1:.0f}%)'.format(i, i/len(layer3)*100))\n",
    "df = pd.DataFrame.from_dict({'first': firstnames, 'last': lastnames, 'dob': dobs, \n",
    "                            'league': leagues, 'pos': positions, 'file': filenames})\n",
    "df = df[~((df.dob == '') | (df.first == '') | (df.last == '') | (df.league == '{}'))]\n",
    "df.reset_index(inplace=True)\n",
    "#df.head()"
   ]
  },
  {
   "cell_type": "code",
   "execution_count": 70,
   "metadata": {
    "collapsed": false
   },
   "outputs": [
    {
     "name": "stdout",
     "output_type": "stream",
     "text": [
      "Written to file\n"
     ]
    }
   ],
   "source": [
    "#df.to_csv(player_ref_fname, sep='\\t')\n",
    "print('Written to file')"
   ]
  },
  {
   "cell_type": "markdown",
   "metadata": {},
   "source": [
    "### Read in player reference data from file"
   ]
  },
  {
   "cell_type": "code",
   "execution_count": 2,
   "metadata": {
    "collapsed": false
   },
   "outputs": [
    {
     "data": {
      "text/html": [
       "<div>\n",
       "<table border=\"1\" class=\"dataframe\">\n",
       "  <thead>\n",
       "    <tr style=\"text-align: right;\">\n",
       "      <th></th>\n",
       "      <th>dob</th>\n",
       "      <th>file</th>\n",
       "      <th>first</th>\n",
       "      <th>last</th>\n",
       "      <th>league</th>\n",
       "      <th>pos</th>\n",
       "    </tr>\n",
       "  </thead>\n",
       "  <tbody>\n",
       "    <tr>\n",
       "      <th>0</th>\n",
       "      <td>1993-05-13</td>\n",
       "      <td>/Users/muneebalam/Desktop/NHLPlaybyPlay/Parsed...</td>\n",
       "      <td>Mitch</td>\n",
       "      <td>Van Teeling</td>\n",
       "      <td>[RBC Cup, World Under-17 Hockey Challenge, Bri...</td>\n",
       "      <td>[LEFT_WING]</td>\n",
       "    </tr>\n",
       "    <tr>\n",
       "      <th>1</th>\n",
       "      <td>1994-03-14</td>\n",
       "      <td>/Users/muneebalam/Desktop/NHLPlaybyPlay/Parsed...</td>\n",
       "      <td>Michael</td>\n",
       "      <td>DeBuccia</td>\n",
       "      <td>[Empire Junior Hockey League, American Collegi...</td>\n",
       "      <td>[RIGHT_WING]</td>\n",
       "    </tr>\n",
       "    <tr>\n",
       "      <th>2</th>\n",
       "      <td>1995-06-28</td>\n",
       "      <td>/Users/muneebalam/Desktop/NHLPlaybyPlay/Parsed...</td>\n",
       "      <td>Spencer</td>\n",
       "      <td>Naas</td>\n",
       "      <td>[United States High School, NCAA D1]</td>\n",
       "      <td>[FORWARD]</td>\n",
       "    </tr>\n",
       "    <tr>\n",
       "      <th>3</th>\n",
       "      <td>1999-08-29</td>\n",
       "      <td>/Users/muneebalam/Desktop/NHLPlaybyPlay/Parsed...</td>\n",
       "      <td>Jannis</td>\n",
       "      <td>Alke</td>\n",
       "      <td>[Germany U16 4, Germany U19 4]</td>\n",
       "      <td>[FORWARD]</td>\n",
       "    </tr>\n",
       "    <tr>\n",
       "      <th>4</th>\n",
       "      <td>1977-05-17</td>\n",
       "      <td>/Users/muneebalam/Desktop/NHLPlaybyPlay/Parsed...</td>\n",
       "      <td>Luc</td>\n",
       "      <td>Dostaler</td>\n",
       "      <td>[QuÃ©bec Major Junior Hockey League, Ligue de ...</td>\n",
       "      <td>[CENTRE]</td>\n",
       "    </tr>\n",
       "  </tbody>\n",
       "</table>\n",
       "</div>"
      ],
      "text/plain": [
       "          dob                                               file    first  \\\n",
       "0  1993-05-13  /Users/muneebalam/Desktop/NHLPlaybyPlay/Parsed...    Mitch   \n",
       "1  1994-03-14  /Users/muneebalam/Desktop/NHLPlaybyPlay/Parsed...  Michael   \n",
       "2  1995-06-28  /Users/muneebalam/Desktop/NHLPlaybyPlay/Parsed...  Spencer   \n",
       "3  1999-08-29  /Users/muneebalam/Desktop/NHLPlaybyPlay/Parsed...   Jannis   \n",
       "4  1977-05-17  /Users/muneebalam/Desktop/NHLPlaybyPlay/Parsed...      Luc   \n",
       "\n",
       "          last                                             league  \\\n",
       "0  Van Teeling  [RBC Cup, World Under-17 Hockey Challenge, Bri...   \n",
       "1     DeBuccia  [Empire Junior Hockey League, American Collegi...   \n",
       "2         Naas               [United States High School, NCAA D1]   \n",
       "3         Alke                     [Germany U16 4, Germany U19 4]   \n",
       "4     Dostaler  [QuÃ©bec Major Junior Hockey League, Ligue de ...   \n",
       "\n",
       "            pos  \n",
       "0   [LEFT_WING]  \n",
       "1  [RIGHT_WING]  \n",
       "2     [FORWARD]  \n",
       "3     [FORWARD]  \n",
       "4      [CENTRE]  "
      ]
     },
     "execution_count": 2,
     "metadata": {},
     "output_type": "execute_result"
    }
   ],
   "source": [
    "df = pd.read_csv(player_ref_fname, sep='\\t')\n",
    "df['league'] = df['league'].apply(lambda x: [lg.strip()[1:-1] for lg in x[1:-1].split(',')])\n",
    "df['pos'] = df['pos'].apply(lambda x: [pos.strip()[1:-1] for pos in x[1:-1].split(',')])\n",
    "df.drop(['Unnamed: 0', 'index'], axis=1, inplace=True)\n",
    "df.head()"
   ]
  },
  {
   "cell_type": "markdown",
   "metadata": {},
   "source": [
    "### Filter forwards who played in major junior"
   ]
  },
  {
   "cell_type": "code",
   "execution_count": 4,
   "metadata": {
    "collapsed": false
   },
   "outputs": [],
   "source": [
    "maj_jun_lgs = ['Western Hockey League', 'Ontario Hockey League', \n",
    "               'QuÃ©bec Major Junior Hockey League']\n",
    "\n",
    "df['WHL'] = df['league'].apply(lambda x: maj_jun_lgs[0] in x)\n",
    "df['OHL'] = df['league'].apply(lambda x: maj_jun_lgs[1] in x)\n",
    "df['QMJHL'] = df['league'].apply(lambda x: maj_jun_lgs[2] in x)\n",
    "df['LW'] = df['pos'].apply(lambda x: 'LEFT_WING' in x)\n",
    "df['RW'] = df['pos'].apply(lambda x: 'RIGHT_WING' in x)\n",
    "df['C'] = df['pos'].apply(lambda x: 'CENTRE' in x)\n",
    "df['F'] = df['LW'] | df['RW'] | df['C']\n",
    "df['CHL'] = df['WHL'] | df['OHL'] | df['QMJHL']\n",
    "df['CHL_F'] = df['F'] & df['CHL']\n",
    "#df[df['CHL_F']].head()"
   ]
  },
  {
   "cell_type": "markdown",
   "metadata": {},
   "source": [
    "### Read in stats for these players"
   ]
  },
  {
   "cell_type": "code",
   "execution_count": 5,
   "metadata": {
    "collapsed": false
   },
   "outputs": [
    {
     "name": "stdout",
     "output_type": "stream",
     "text": [
      "Done through 0/9683\n",
      "Done through 1000/9683\n",
      "Done through 2000/9683\n",
      "Done through 3000/9683\n",
      "Done through 4000/9683\n",
      "Done through 5000/9683\n",
      "Done through 6000/9683\n",
      "Done through 7000/9683\n",
      "Done through 8000/9683\n",
      "Done through 9000/9683\n"
     ]
    }
   ],
   "source": [
    "allleagues = {x for x in maj_jun_lgs}\n",
    "allleagues.add('National Hockey League')\n",
    "allleagues.add('American Hockey League')\n",
    "\n",
    "to_read = [x for x in df[df['CHL_F']]['file']]\n",
    "firstnames = []\n",
    "lastnames = []\n",
    "dobs = []\n",
    "leagues = []\n",
    "leagueyears = []\n",
    "goals = []\n",
    "assists = []\n",
    "heights = []\n",
    "weights = []\n",
    "gp = []\n",
    "teams = []\n",
    "gtypes = []\n",
    "positions = []\n",
    "shoots = []\n",
    "for i in range(len(to_read)):\n",
    "    file = to_read[i]\n",
    "    r = open(file, 'r')\n",
    "    data = json.loads(r.read())\n",
    "    r.close()\n",
    "    if 'data' not in data:\n",
    "        pass\n",
    "    else:\n",
    "        for dct in data['data']:\n",
    "            if 'league' in dct and 'fullName' in dct['league'] and \\\n",
    "                dct['league']['fullName'] in allleagues:\n",
    "                firstnames.append('')\n",
    "                lastnames.append('')\n",
    "                dobs.append('')\n",
    "                leagues.append('')\n",
    "                leagueyears.append('')\n",
    "                goals.append(0)\n",
    "                assists.append(0)\n",
    "                heights.append(0)\n",
    "                weights.append(0)\n",
    "                gp.append(0)\n",
    "                teams.append('')\n",
    "                gtypes.append('')\n",
    "                positions.append('')\n",
    "                shoots.append('')\n",
    "\n",
    "                try:\n",
    "                    firstnames[-1] = dct['player']['firstName']\n",
    "                except KeyError:\n",
    "                    pass\n",
    "                try:\n",
    "                    lastnames[-1] = dct['player']['lastName']\n",
    "                except KeyError:\n",
    "                    pass\n",
    "                try:\n",
    "                    dobs[-1] = dct['player']['dateOfBirth']\n",
    "                except KeyError:\n",
    "                    pass\n",
    "                try:\n",
    "                    leagues[-1] = dct['league']['fullName']\n",
    "                except KeyError:\n",
    "                    pass\n",
    "                try:\n",
    "                    leagueyears[-1] = dct['season']['name']\n",
    "                except KeyError:\n",
    "                    pass\n",
    "                try:\n",
    "                    goals[-1] = dct['G']\n",
    "                except KeyError:\n",
    "                    pass\n",
    "                try:\n",
    "                    assists[-1] = dct['A']\n",
    "                except KeyError:\n",
    "                    pass\n",
    "                try:\n",
    "                    heights[-1] = dct['player']['height']\n",
    "                except KeyError:\n",
    "                    pass\n",
    "                try:\n",
    "                    weights[-1] = dct['player']['weight']\n",
    "                except KeyError:\n",
    "                    pass\n",
    "                try:\n",
    "                    gp[-1] = dct['GP']\n",
    "                except KeyError:\n",
    "                    pass\n",
    "                try:\n",
    "                    teams[-1] = dct['team']['name']\n",
    "                except KeyError:\n",
    "                    pass\n",
    "                try:\n",
    "                    gtypes[-1] = dct['gameType']\n",
    "                except KeyError:\n",
    "                    pass\n",
    "                try:\n",
    "                    positions[-1] = dct['player']['playerPosition']\n",
    "                except KeyError:\n",
    "                    pass\n",
    "                try:\n",
    "                    shoots[-1] = dct['player']['shoots']\n",
    "                except KeyError:\n",
    "                    pass\n",
    "    if i % 1000 == 0:\n",
    "        print('Done through {0:d}/{1:d}'.format(i, len(to_read)))\n",
    "\n",
    "df2 = pd.DataFrame.from_dict({'first': firstnames, 'last': lastnames, 'dob': dobs,\n",
    "                             'league': leagues, 'G': goals, 'A': assists, \n",
    "                              'season': leagueyears, 'height': heights, 'weight': weights,\n",
    "                             'GP': gp, 'team': teams, 'pos': positions, 'shoots': shoots,\n",
    "                             'type': gtypes})\n",
    "#df2.head()"
   ]
  },
  {
   "cell_type": "markdown",
   "metadata": {},
   "source": [
    "### Write to file"
   ]
  },
  {
   "cell_type": "code",
   "execution_count": 6,
   "metadata": {
    "collapsed": true
   },
   "outputs": [],
   "source": [
    "df2.to_csv(player_stats_fname, sep='\\t')"
   ]
  },
  {
   "cell_type": "markdown",
   "metadata": {
    "collapsed": true
   },
   "source": [
    "### Read in player season stats from file"
   ]
  },
  {
   "cell_type": "code",
   "execution_count": 127,
   "metadata": {
    "collapsed": false
   },
   "outputs": [
    {
     "data": {
      "text/html": [
       "<div>\n",
       "<table border=\"1\" class=\"dataframe\">\n",
       "  <thead>\n",
       "    <tr style=\"text-align: right;\">\n",
       "      <th></th>\n",
       "      <th>first</th>\n",
       "      <th>last</th>\n",
       "      <th>pos</th>\n",
       "      <th>shoots</th>\n",
       "      <th>season</th>\n",
       "      <th>type</th>\n",
       "      <th>team</th>\n",
       "      <th>GP</th>\n",
       "      <th>G</th>\n",
       "      <th>A</th>\n",
       "      <th>dob</th>\n",
       "      <th>height</th>\n",
       "      <th>weight</th>\n",
       "      <th>league</th>\n",
       "    </tr>\n",
       "  </thead>\n",
       "  <tbody>\n",
       "    <tr>\n",
       "      <th>0</th>\n",
       "      <td>Luc</td>\n",
       "      <td>Dostaler</td>\n",
       "      <td>CENTRE</td>\n",
       "      <td>LEFT</td>\n",
       "      <td>1994-1995</td>\n",
       "      <td>REGULAR_SEASON</td>\n",
       "      <td>Saint-Hyacinthe Laser</td>\n",
       "      <td>40</td>\n",
       "      <td>3</td>\n",
       "      <td>9</td>\n",
       "      <td>1977-05-17</td>\n",
       "      <td>183</td>\n",
       "      <td>84</td>\n",
       "      <td>QuÃ©bec Major Junior Hockey League</td>\n",
       "    </tr>\n",
       "    <tr>\n",
       "      <th>1</th>\n",
       "      <td>Luc</td>\n",
       "      <td>Dostaler</td>\n",
       "      <td>CENTRE</td>\n",
       "      <td>LEFT</td>\n",
       "      <td>1995-1996</td>\n",
       "      <td>REGULAR_SEASON</td>\n",
       "      <td>Laval Titan</td>\n",
       "      <td>32</td>\n",
       "      <td>1</td>\n",
       "      <td>2</td>\n",
       "      <td>1977-05-17</td>\n",
       "      <td>183</td>\n",
       "      <td>84</td>\n",
       "      <td>QuÃ©bec Major Junior Hockey League</td>\n",
       "    </tr>\n",
       "    <tr>\n",
       "      <th>2</th>\n",
       "      <td>Dawson</td>\n",
       "      <td>Leedahl</td>\n",
       "      <td>LEFT_WING</td>\n",
       "      <td>LEFT</td>\n",
       "      <td>2012-2013</td>\n",
       "      <td>PLAYOFFS</td>\n",
       "      <td>Everett Silvertips</td>\n",
       "      <td>6</td>\n",
       "      <td>2</td>\n",
       "      <td>1</td>\n",
       "      <td>1996-03-16</td>\n",
       "      <td>185</td>\n",
       "      <td>91</td>\n",
       "      <td>Western Hockey League</td>\n",
       "    </tr>\n",
       "    <tr>\n",
       "      <th>3</th>\n",
       "      <td>Dawson</td>\n",
       "      <td>Leedahl</td>\n",
       "      <td>LEFT_WING</td>\n",
       "      <td>LEFT</td>\n",
       "      <td>2012-2013</td>\n",
       "      <td>REGULAR_SEASON</td>\n",
       "      <td>Everett Silvertips</td>\n",
       "      <td>56</td>\n",
       "      <td>3</td>\n",
       "      <td>6</td>\n",
       "      <td>1996-03-16</td>\n",
       "      <td>185</td>\n",
       "      <td>91</td>\n",
       "      <td>Western Hockey League</td>\n",
       "    </tr>\n",
       "    <tr>\n",
       "      <th>4</th>\n",
       "      <td>Dawson</td>\n",
       "      <td>Leedahl</td>\n",
       "      <td>LEFT_WING</td>\n",
       "      <td>LEFT</td>\n",
       "      <td>2013-2014</td>\n",
       "      <td>REGULAR_SEASON</td>\n",
       "      <td>Everett Silvertips</td>\n",
       "      <td>70</td>\n",
       "      <td>8</td>\n",
       "      <td>24</td>\n",
       "      <td>1996-03-16</td>\n",
       "      <td>185</td>\n",
       "      <td>91</td>\n",
       "      <td>Western Hockey League</td>\n",
       "    </tr>\n",
       "  </tbody>\n",
       "</table>\n",
       "</div>"
      ],
      "text/plain": [
       "    first      last        pos shoots     season            type  \\\n",
       "0     Luc  Dostaler     CENTRE   LEFT  1994-1995  REGULAR_SEASON   \n",
       "1     Luc  Dostaler     CENTRE   LEFT  1995-1996  REGULAR_SEASON   \n",
       "2  Dawson   Leedahl  LEFT_WING   LEFT  2012-2013        PLAYOFFS   \n",
       "3  Dawson   Leedahl  LEFT_WING   LEFT  2012-2013  REGULAR_SEASON   \n",
       "4  Dawson   Leedahl  LEFT_WING   LEFT  2013-2014  REGULAR_SEASON   \n",
       "\n",
       "                    team  GP  G   A         dob  height  weight  \\\n",
       "0  Saint-Hyacinthe Laser  40  3   9  1977-05-17     183      84   \n",
       "1            Laval Titan  32  1   2  1977-05-17     183      84   \n",
       "2     Everett Silvertips   6  2   1  1996-03-16     185      91   \n",
       "3     Everett Silvertips  56  3   6  1996-03-16     185      91   \n",
       "4     Everett Silvertips  70  8  24  1996-03-16     185      91   \n",
       "\n",
       "                               league  \n",
       "0  QuÃ©bec Major Junior Hockey League  \n",
       "1  QuÃ©bec Major Junior Hockey League  \n",
       "2               Western Hockey League  \n",
       "3               Western Hockey League  \n",
       "4               Western Hockey League  "
      ]
     },
     "execution_count": 127,
     "metadata": {},
     "output_type": "execute_result"
    }
   ],
   "source": [
    "df2 = pd.read_csv(player_stats_fname, sep='\\t')\n",
    "df2.drop('Unnamed: 0', axis=1, inplace=True)\n",
    "colorder = ['first', 'last', 'pos', 'shoots', 'season', 'type', 'team',\n",
    "           'GP', 'G', 'A', 'dob', 'height', 'weight', 'league']\n",
    "df2 = df2[colorder]\n",
    "df2.head()"
   ]
  },
  {
   "cell_type": "markdown",
   "metadata": {
    "collapsed": false
   },
   "source": [
    "### Group by name, season, league"
   ]
  },
  {
   "cell_type": "code",
   "execution_count": 128,
   "metadata": {
    "collapsed": false
   },
   "outputs": [],
   "source": [
    "grouping = df2.groupby(['first', 'last', 'season', 'league', 'pos', 'dob'], as_index=False)\n",
    "grouped = grouping.agg({'GP': np.sum, 'G': np.sum, 'A': np.sum,\n",
    "                       'height': np.mean, 'weight': np.mean})\n",
    "#grouped.head()"
   ]
  },
  {
   "cell_type": "markdown",
   "metadata": {},
   "source": [
    "### Add in player age on Jan 1 of season year"
   ]
  },
  {
   "cell_type": "code",
   "execution_count": 129,
   "metadata": {
    "collapsed": false
   },
   "outputs": [],
   "source": [
    "grouped['dob2'] = pd.to_datetime(grouped['dob'], infer_datetime_format=True)\n",
    "grouped['season_start'] = grouped['season'].apply(lambda x: pd.Timestamp(x[:4] + '-01-01'))\n",
    "grouped['age_days'] = grouped['season_start'] - grouped['dob2']\n",
    "\n",
    "age = []\n",
    "for i in range(len(grouped)):\n",
    "    age.append(grouped['age_days'].iloc[i].days/365)\n",
    "grouped['age_y'] = age\n",
    "grouped = grouped[~(grouped['league'] == 'American Hockey League')]\n",
    "#grouped.head()"
   ]
  },
  {
   "cell_type": "markdown",
   "metadata": {},
   "source": [
    "### Let's combine first and last name, drop the position and dob and age_days\n",
    "Also filter out really old players...let's say prior to 1970 yob, arbitrarily."
   ]
  },
  {
   "cell_type": "code",
   "execution_count": 130,
   "metadata": {
    "collapsed": false
   },
   "outputs": [
    {
     "data": {
      "text/html": [
       "<div>\n",
       "<table border=\"1\" class=\"dataframe\">\n",
       "  <thead>\n",
       "    <tr style=\"text-align: right;\">\n",
       "      <th></th>\n",
       "      <th>season</th>\n",
       "      <th>league</th>\n",
       "      <th>weight</th>\n",
       "      <th>GP</th>\n",
       "      <th>A</th>\n",
       "      <th>height</th>\n",
       "      <th>G</th>\n",
       "      <th>dob2</th>\n",
       "      <th>season_start</th>\n",
       "      <th>age_y</th>\n",
       "      <th>Name</th>\n",
       "    </tr>\n",
       "  </thead>\n",
       "  <tbody>\n",
       "    <tr>\n",
       "      <th>0</th>\n",
       "      <td>2015-2016</td>\n",
       "      <td>QuÃ©bec Major Junior Hockey League</td>\n",
       "      <td>93</td>\n",
       "      <td>53</td>\n",
       "      <td>21</td>\n",
       "      <td>191</td>\n",
       "      <td>28</td>\n",
       "      <td>1996-12-14</td>\n",
       "      <td>2015-01-01</td>\n",
       "      <td>18.060274</td>\n",
       "      <td>A.J. Greer</td>\n",
       "    </tr>\n",
       "    <tr>\n",
       "      <th>1</th>\n",
       "      <td>2006-2007</td>\n",
       "      <td>Ontario Hockey League</td>\n",
       "      <td>93</td>\n",
       "      <td>88</td>\n",
       "      <td>15</td>\n",
       "      <td>188</td>\n",
       "      <td>9</td>\n",
       "      <td>1990-06-27</td>\n",
       "      <td>2006-01-01</td>\n",
       "      <td>15.526027</td>\n",
       "      <td>A.J. Jenks</td>\n",
       "    </tr>\n",
       "    <tr>\n",
       "      <th>2</th>\n",
       "      <td>2007-2008</td>\n",
       "      <td>Ontario Hockey League</td>\n",
       "      <td>93</td>\n",
       "      <td>72</td>\n",
       "      <td>29</td>\n",
       "      <td>188</td>\n",
       "      <td>27</td>\n",
       "      <td>1990-06-27</td>\n",
       "      <td>2007-01-01</td>\n",
       "      <td>16.526027</td>\n",
       "      <td>A.J. Jenks</td>\n",
       "    </tr>\n",
       "    <tr>\n",
       "      <th>3</th>\n",
       "      <td>2008-2009</td>\n",
       "      <td>Ontario Hockey League</td>\n",
       "      <td>93</td>\n",
       "      <td>72</td>\n",
       "      <td>33</td>\n",
       "      <td>188</td>\n",
       "      <td>22</td>\n",
       "      <td>1990-06-27</td>\n",
       "      <td>2008-01-01</td>\n",
       "      <td>17.526027</td>\n",
       "      <td>A.J. Jenks</td>\n",
       "    </tr>\n",
       "    <tr>\n",
       "      <th>4</th>\n",
       "      <td>2009-2010</td>\n",
       "      <td>Ontario Hockey League</td>\n",
       "      <td>93</td>\n",
       "      <td>61</td>\n",
       "      <td>48</td>\n",
       "      <td>188</td>\n",
       "      <td>27</td>\n",
       "      <td>1990-06-27</td>\n",
       "      <td>2009-01-01</td>\n",
       "      <td>18.528767</td>\n",
       "      <td>A.J. Jenks</td>\n",
       "    </tr>\n",
       "  </tbody>\n",
       "</table>\n",
       "</div>"
      ],
      "text/plain": [
       "      season                              league  weight  GP   A  height   G  \\\n",
       "0  2015-2016  QuÃ©bec Major Junior Hockey League      93  53  21     191  28   \n",
       "1  2006-2007               Ontario Hockey League      93  88  15     188   9   \n",
       "2  2007-2008               Ontario Hockey League      93  72  29     188  27   \n",
       "3  2008-2009               Ontario Hockey League      93  72  33     188  22   \n",
       "4  2009-2010               Ontario Hockey League      93  61  48     188  27   \n",
       "\n",
       "        dob2 season_start      age_y        Name  \n",
       "0 1996-12-14   2015-01-01  18.060274  A.J. Greer  \n",
       "1 1990-06-27   2006-01-01  15.526027  A.J. Jenks  \n",
       "2 1990-06-27   2007-01-01  16.526027  A.J. Jenks  \n",
       "3 1990-06-27   2008-01-01  17.526027  A.J. Jenks  \n",
       "4 1990-06-27   2009-01-01  18.528767  A.J. Jenks  "
      ]
     },
     "execution_count": 130,
     "metadata": {},
     "output_type": "execute_result"
    }
   ],
   "source": [
    "start_date = '1970-01-01'\n",
    "grouped['Name'] = grouped['first'] + ' ' + grouped['last']\n",
    "grouped.drop(['pos', 'dob', 'age_days', 'first', 'last'], axis=1, inplace=True)\n",
    "grouped = grouped[grouped['dob2'] >= start_date]\n",
    "grouped.head()"
   ]
  },
  {
   "cell_type": "markdown",
   "metadata": {},
   "source": [
    "### Now add a column for NHL GP\n",
    "First, create a new df with this data, and sum over seasons, then join with the old df."
   ]
  },
  {
   "cell_type": "code",
   "execution_count": 131,
   "metadata": {
    "collapsed": false
   },
   "outputs": [
    {
     "data": {
      "text/html": [
       "<div>\n",
       "<table border=\"1\" class=\"dataframe\">\n",
       "  <thead>\n",
       "    <tr style=\"text-align: right;\">\n",
       "      <th></th>\n",
       "      <th>Name</th>\n",
       "      <th>dob2</th>\n",
       "      <th>NHLGP</th>\n",
       "      <th>NHLG</th>\n",
       "      <th>NHLA</th>\n",
       "    </tr>\n",
       "  </thead>\n",
       "  <tbody>\n",
       "    <tr>\n",
       "      <th>0</th>\n",
       "      <td>Aaron Downey</td>\n",
       "      <td>1974-09-27</td>\n",
       "      <td>248</td>\n",
       "      <td>8</td>\n",
       "      <td>10</td>\n",
       "    </tr>\n",
       "    <tr>\n",
       "      <th>1</th>\n",
       "      <td>Aaron Gavey</td>\n",
       "      <td>1974-02-22</td>\n",
       "      <td>379</td>\n",
       "      <td>42</td>\n",
       "      <td>52</td>\n",
       "    </tr>\n",
       "    <tr>\n",
       "      <th>2</th>\n",
       "      <td>Adam Berti</td>\n",
       "      <td>1986-07-01</td>\n",
       "      <td>2</td>\n",
       "      <td>0</td>\n",
       "      <td>0</td>\n",
       "    </tr>\n",
       "    <tr>\n",
       "      <th>3</th>\n",
       "      <td>Adam Deadmarsh</td>\n",
       "      <td>1975-05-10</td>\n",
       "      <td>672</td>\n",
       "      <td>210</td>\n",
       "      <td>229</td>\n",
       "    </tr>\n",
       "    <tr>\n",
       "      <th>4</th>\n",
       "      <td>Adam Henrique</td>\n",
       "      <td>1990-02-06</td>\n",
       "      <td>358</td>\n",
       "      <td>96</td>\n",
       "      <td>112</td>\n",
       "    </tr>\n",
       "  </tbody>\n",
       "</table>\n",
       "</div>"
      ],
      "text/plain": [
       "             Name       dob2  NHLGP  NHLG  NHLA\n",
       "0    Aaron Downey 1974-09-27    248     8    10\n",
       "1     Aaron Gavey 1974-02-22    379    42    52\n",
       "2      Adam Berti 1986-07-01      2     0     0\n",
       "3  Adam Deadmarsh 1975-05-10    672   210   229\n",
       "4   Adam Henrique 1990-02-06    358    96   112"
      ]
     },
     "execution_count": 131,
     "metadata": {},
     "output_type": "execute_result"
    }
   ],
   "source": [
    "df_nhl = grouped[grouped['league'] == 'National Hockey League']\n",
    "df_nhl = df_nhl.groupby(['Name', 'dob2'], as_index=False).sum()\n",
    "df_nhl = df_nhl[['Name', 'dob2', 'GP', 'G', 'A']]\n",
    "df_nhl.rename(columns={'GP': 'NHLGP', 'G': 'NHLG', 'A': 'NHLA'}, inplace=True)\n",
    "df_nhl.head()"
   ]
  },
  {
   "cell_type": "code",
   "execution_count": 132,
   "metadata": {
    "collapsed": false
   },
   "outputs": [
    {
     "data": {
      "text/html": [
       "<div>\n",
       "<table border=\"1\" class=\"dataframe\">\n",
       "  <thead>\n",
       "    <tr style=\"text-align: right;\">\n",
       "      <th></th>\n",
       "      <th>season</th>\n",
       "      <th>league</th>\n",
       "      <th>weight</th>\n",
       "      <th>GP</th>\n",
       "      <th>A</th>\n",
       "      <th>height</th>\n",
       "      <th>G</th>\n",
       "      <th>dob2</th>\n",
       "      <th>season_start</th>\n",
       "      <th>age_y</th>\n",
       "      <th>Name</th>\n",
       "      <th>NHLGP</th>\n",
       "      <th>NHLG</th>\n",
       "      <th>NHLA</th>\n",
       "    </tr>\n",
       "  </thead>\n",
       "  <tbody>\n",
       "    <tr>\n",
       "      <th>0</th>\n",
       "      <td>2015-2016</td>\n",
       "      <td>QuÃ©bec Major Junior Hockey League</td>\n",
       "      <td>93</td>\n",
       "      <td>53</td>\n",
       "      <td>21</td>\n",
       "      <td>191</td>\n",
       "      <td>28</td>\n",
       "      <td>1996-12-14</td>\n",
       "      <td>2015-01-01</td>\n",
       "      <td>18.060274</td>\n",
       "      <td>A.J. Greer</td>\n",
       "      <td>0</td>\n",
       "      <td>0</td>\n",
       "      <td>0</td>\n",
       "    </tr>\n",
       "    <tr>\n",
       "      <th>1</th>\n",
       "      <td>2006-2007</td>\n",
       "      <td>Ontario Hockey League</td>\n",
       "      <td>93</td>\n",
       "      <td>88</td>\n",
       "      <td>15</td>\n",
       "      <td>188</td>\n",
       "      <td>9</td>\n",
       "      <td>1990-06-27</td>\n",
       "      <td>2006-01-01</td>\n",
       "      <td>15.526027</td>\n",
       "      <td>A.J. Jenks</td>\n",
       "      <td>0</td>\n",
       "      <td>0</td>\n",
       "      <td>0</td>\n",
       "    </tr>\n",
       "    <tr>\n",
       "      <th>2</th>\n",
       "      <td>2007-2008</td>\n",
       "      <td>Ontario Hockey League</td>\n",
       "      <td>93</td>\n",
       "      <td>72</td>\n",
       "      <td>29</td>\n",
       "      <td>188</td>\n",
       "      <td>27</td>\n",
       "      <td>1990-06-27</td>\n",
       "      <td>2007-01-01</td>\n",
       "      <td>16.526027</td>\n",
       "      <td>A.J. Jenks</td>\n",
       "      <td>0</td>\n",
       "      <td>0</td>\n",
       "      <td>0</td>\n",
       "    </tr>\n",
       "    <tr>\n",
       "      <th>3</th>\n",
       "      <td>2008-2009</td>\n",
       "      <td>Ontario Hockey League</td>\n",
       "      <td>93</td>\n",
       "      <td>72</td>\n",
       "      <td>33</td>\n",
       "      <td>188</td>\n",
       "      <td>22</td>\n",
       "      <td>1990-06-27</td>\n",
       "      <td>2008-01-01</td>\n",
       "      <td>17.526027</td>\n",
       "      <td>A.J. Jenks</td>\n",
       "      <td>0</td>\n",
       "      <td>0</td>\n",
       "      <td>0</td>\n",
       "    </tr>\n",
       "    <tr>\n",
       "      <th>4</th>\n",
       "      <td>2009-2010</td>\n",
       "      <td>Ontario Hockey League</td>\n",
       "      <td>93</td>\n",
       "      <td>61</td>\n",
       "      <td>48</td>\n",
       "      <td>188</td>\n",
       "      <td>27</td>\n",
       "      <td>1990-06-27</td>\n",
       "      <td>2009-01-01</td>\n",
       "      <td>18.528767</td>\n",
       "      <td>A.J. Jenks</td>\n",
       "      <td>0</td>\n",
       "      <td>0</td>\n",
       "      <td>0</td>\n",
       "    </tr>\n",
       "  </tbody>\n",
       "</table>\n",
       "</div>"
      ],
      "text/plain": [
       "      season                              league  weight  GP   A  height   G  \\\n",
       "0  2015-2016  QuÃ©bec Major Junior Hockey League      93  53  21     191  28   \n",
       "1  2006-2007               Ontario Hockey League      93  88  15     188   9   \n",
       "2  2007-2008               Ontario Hockey League      93  72  29     188  27   \n",
       "3  2008-2009               Ontario Hockey League      93  72  33     188  22   \n",
       "4  2009-2010               Ontario Hockey League      93  61  48     188  27   \n",
       "\n",
       "        dob2 season_start      age_y        Name  NHLGP  NHLG  NHLA  \n",
       "0 1996-12-14   2015-01-01  18.060274  A.J. Greer      0     0     0  \n",
       "1 1990-06-27   2006-01-01  15.526027  A.J. Jenks      0     0     0  \n",
       "2 1990-06-27   2007-01-01  16.526027  A.J. Jenks      0     0     0  \n",
       "3 1990-06-27   2008-01-01  17.526027  A.J. Jenks      0     0     0  \n",
       "4 1990-06-27   2009-01-01  18.528767  A.J. Jenks      0     0     0  "
      ]
     },
     "execution_count": 132,
     "metadata": {},
     "output_type": "execute_result"
    }
   ],
   "source": [
    "grouped2 = grouped.merge(df_nhl, on=['Name', 'dob2'], how='left')\n",
    "grouped2.fillna(0, inplace=True)\n",
    "grouped2.head()"
   ]
  },
  {
   "cell_type": "code",
   "execution_count": 133,
   "metadata": {
    "collapsed": false
   },
   "outputs": [],
   "source": [
    "import statsmodels.formula.api as smf"
   ]
  },
  {
   "cell_type": "code",
   "execution_count": 134,
   "metadata": {
    "collapsed": false
   },
   "outputs": [
    {
     "name": "stdout",
     "output_type": "stream",
     "text": [
      "                            OLS Regression Results                            \n",
      "==============================================================================\n",
      "Dep. Variable:                  NHLGP   R-squared:                       0.218\n",
      "Model:                            OLS   Adj. R-squared:                  0.218\n",
      "Method:                 Least Squares   F-statistic:                     750.6\n",
      "Date:                Sat, 17 Sep 2016   Prob (F-statistic):               0.00\n",
      "Time:                        12:44:18   Log-Likelihood:            -1.6894e+05\n",
      "No. Observations:               24109   AIC:                         3.379e+05\n",
      "Df Residuals:                   24103   BIC:                         3.379e+05\n",
      "Df Model:                           5                                         \n",
      "Covariance Type:                  HC1                                         \n",
      "==============================================================================\n",
      "                 coef    std err          t      P>|t|      [95.0% Conf. Int.]\n",
      "------------------------------------------------------------------------------\n",
      "Intercept   -129.0840     12.457    -10.363      0.000      -153.500  -104.668\n",
      "age_y:GP       0.1997      0.005     36.735      0.000         0.189     0.210\n",
      "age_y:G       -0.0573      0.019     -2.939      0.003        -0.096    -0.019\n",
      "age_y:A        0.0482      0.015      3.211      0.001         0.019     0.078\n",
      "height        -4.3545      0.139    -31.328      0.000        -4.627    -4.082\n",
      "weight         9.7347      0.261     37.305      0.000         9.223    10.246\n",
      "==============================================================================\n",
      "Omnibus:                    10223.146   Durbin-Watson:                   0.380\n",
      "Prob(Omnibus):                  0.000   Jarque-Bera (JB):            44864.966\n",
      "Skew:                           2.096   Prob(JB):                         0.00\n",
      "Kurtosis:                       8.205   Cond. No.                     1.77e+04\n",
      "==============================================================================\n",
      "\n",
      "Warnings:\n",
      "[1] Standard Errors are heteroscedasticity robust (HC1)\n",
      "[2] The condition number is large, 1.77e+04. This might indicate that there are\n",
      "strong multicollinearity or other numerical problems.\n"
     ]
    }
   ],
   "source": [
    "mod = smf.ols(formula='NHLGP ~ age_y:GP + age_y:G + age_y:A + height + weight', data=grouped2)\n",
    "ols = mod.fit().get_robustcov_results()\n",
    "print(ols.summary())"
   ]
  },
  {
   "cell_type": "markdown",
   "metadata": {},
   "source": [
    "This isn't a very good model. What we can try to do is limit age to a smaller range--right now, very old players are going to have a disproportionate impact on our results. We also need to consider that worse players are going to have more CHL seasons, so they might have four data points in the data set while better players might only have one or two, skewing the results downward. We can try to resolve this by aggregating by player, with different columns for different ages. This binning approach is imperfect and might be slightly biased, but oh well. We also will need to fill in missing seasons for players--we can try to apply an aging curve.\n",
    "\n",
    "<p>To keep things simple let's start with 15yo, 16yo, 17yo, 18yo, and 19yo bins (~2/3 of the data).\n",
    "<p>Let's also normalize everything.\n",
    "<p>Later on, we can also aggregate player scoring season by league to calculate goals per game, and use that to make an era adjustment."
   ]
  },
  {
   "cell_type": "markdown",
   "metadata": {},
   "source": [
    "The way we can apply an aging curve is by filtering players who played in each year of a certain age range, then calculate how they did in Y1 and Y2 (relative to Y1 in percentage terms)--that is, we assume a constant percentage increase or drop in GP, G, and A. We should use a chained approach--considering only two years at a time--to use as much data as possible and try to avoid excluding certain segments of players."
   ]
  },
  {
   "cell_type": "markdown",
   "metadata": {},
   "source": [
    "This will all be addressed in part 2."
   ]
  },
  {
   "cell_type": "code",
   "execution_count": 135,
   "metadata": {
    "collapsed": true
   },
   "outputs": [],
   "source": [
    "grouped2.to_csv(player_inter_data, sep='\\t')"
   ]
  }
 ],
 "metadata": {
  "kernelspec": {
   "display_name": "Python 3",
   "language": "python",
   "name": "python3"
  },
  "language_info": {
   "codemirror_mode": {
    "name": "ipython",
    "version": 3
   },
   "file_extension": ".py",
   "mimetype": "text/x-python",
   "name": "python",
   "nbconvert_exporter": "python",
   "pygments_lexer": "ipython3",
   "version": "3.4.3"
  }
 },
 "nbformat": 4,
 "nbformat_minor": 0
}
